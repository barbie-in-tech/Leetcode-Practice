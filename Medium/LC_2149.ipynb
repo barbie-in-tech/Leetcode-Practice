{
  "nbformat": 4,
  "nbformat_minor": 0,
  "metadata": {
    "colab": {
      "provenance": []
    },
    "kernelspec": {
      "name": "python3",
      "display_name": "Python 3"
    },
    "language_info": {
      "name": "python"
    }
  },
  "cells": [
    {
      "cell_type": "markdown",
      "source": [
        "###Rearrange Array Elements by Sign"
      ],
      "metadata": {
        "id": "81YrCcDzvh1q"
      }
    },
    {
      "cell_type": "markdown",
      "source": [
        "Brute Force Solution - keep 2 lists for positive and negative numbers each.\n",
        "\n",
        "We observe that positives numbers on even indices while negative numbers are on odd indices. So we can do conditional merging of the two lists.\n"
      ],
      "metadata": {
        "id": "CwHi9R6xEC-H"
      }
    },
    {
      "cell_type": "code",
      "source": [
        "def rearrangeArray(nums):\n",
        "  pos = []\n",
        "  neg = []\n",
        "  for i in range(0, len(nums)):\n",
        "    if nums[i] < 0:\n",
        "      neg.append(nums[i])\n",
        "    else:\n",
        "      pos.append(nums[i])\n",
        "  j = 0\n",
        "  k = 0\n",
        "  for i in range(len(nums)):\n",
        "    if i%2==0:\n",
        "      nums[i] = pos[j]\n",
        "      j += 1\n",
        "    else:\n",
        "      nums[i] = neg[k]\n",
        "      k+=1\n",
        "\n",
        "  return nums\n",
        "\n",
        "\n",
        "print(rearrangeArray(nums = [3,1,-2,-5,2,-4]))\n",
        "print(rearrangeArray(nums = [-1,1]))"
      ],
      "metadata": {
        "colab": {
          "base_uri": "https://localhost:8080/"
        },
        "id": "V9BT1_AVEv-j",
        "outputId": "97b41ecd-ea80-4870-a2cb-7671192db4a9"
      },
      "execution_count": 4,
      "outputs": [
        {
          "output_type": "stream",
          "name": "stdout",
          "text": [
            "[3, -2, 1, -5, 2, -4]\n",
            "[1, -1]\n"
          ]
        }
      ]
    },
    {
      "cell_type": "markdown",
      "source": [
        "Time Complexity = O(n) + O(n)\n",
        "\n",
        "Space Complexity = O(n)"
      ],
      "metadata": {
        "id": "JO9mFwKGFrfq"
      }
    },
    {
      "cell_type": "markdown",
      "source": [
        "\n",
        "\n",
        "---\n",
        "Optimal Solution - We cannot reduce space complexity because we need the extra space somehow. But we can reduce the time complexity so we will focus on that\n"
      ],
      "metadata": {
        "id": "YFwDS-vU4FKI"
      }
    },
    {
      "cell_type": "code",
      "source": [
        "def rearrangeArray(nums):\n",
        "  ans = [None] * len(nums)\n",
        "  neg = 1\n",
        "  pos = 0\n",
        "\n",
        "  for i in range(len(nums)):\n",
        "    if nums[i] < 0:\n",
        "      ans[neg] = nums[i]\n",
        "      neg += 2\n",
        "    else:\n",
        "      ans[pos] = nums[i]\n",
        "      pos += 2\n",
        "\n",
        "  return ans\n",
        "\n",
        "\n",
        "print(rearrangeArray(nums = [3,1,-2,-5,2,-4]))\n",
        "print(rearrangeArray(nums = [-1,1]))"
      ],
      "metadata": {
        "colab": {
          "base_uri": "https://localhost:8080/"
        },
        "id": "ZRaYA5uC4O9p",
        "outputId": "9a242e3e-dd77-4d3f-e254-9b139eb47158"
      },
      "execution_count": 9,
      "outputs": [
        {
          "output_type": "stream",
          "name": "stdout",
          "text": [
            "[3, -2, 1, -5, 2, -4]\n",
            "[1, -1]\n"
          ]
        }
      ]
    },
    {
      "cell_type": "markdown",
      "source": [
        "\n",
        "\n",
        "---\n",
        "\n",
        "### Variety #2"
      ],
      "metadata": {
        "id": "nWSPze9I8AH6"
      }
    },
    {
      "cell_type": "markdown",
      "source": [
        "In the previous question, the size of nums was even and there were equal numbers of positive and negative numbers. But what if it is uneven?\n",
        "\n",
        "The approach is kind of similar to merging 2 lists together without changing the order\n",
        "\n",
        "Or merging 2 sorted list and the final list should be sorted"
      ],
      "metadata": {
        "id": "u_kNpt1m8E-B"
      }
    },
    {
      "cell_type": "code",
      "source": [
        "def rearrangeArray(nums):\n",
        "  pos = []\n",
        "  neg = []\n",
        "  for i in range(0, len(nums)):\n",
        "    if nums[i] < 0:\n",
        "      neg.append(nums[i])\n",
        "    else:\n",
        "      pos.append(nums[i])\n",
        "\n",
        "  if len(pos) > len(neg):\n",
        "    for i in range(len(neg)):\n",
        "      nums[2*i] = pos[i]\n",
        "      nums[2*i + 1] = neg[i]\n",
        "\n",
        "    index = len(neg) * 2\n",
        "    for i in range(len(neg), len(pos)):\n",
        "      nums[index] = pos[i]\n",
        "      index += 1\n",
        "\n",
        "  else:\n",
        "    for i in range(len(pos)):\n",
        "      nums[2*i] = pos[i]\n",
        "      nums[2*i + 1] = neg[i]\n",
        "\n",
        "    index = len(pos) * 2\n",
        "    for i in range(len(pos), len(neg)):\n",
        "      nums[index] = neg[i]\n",
        "      index += 1\n",
        "\n",
        "  return nums\n",
        "\n",
        "print(rearrangeArray(nums = [1, 2, -4, -5, 3, 6]))\n",
        "print(rearrangeArray(nums = [-1, 1, 0, -1, -4, -5, 4]))"
      ],
      "metadata": {
        "colab": {
          "base_uri": "https://localhost:8080/"
        },
        "id": "nDWP5Ywl8EW1",
        "outputId": "b85ea1ef-85f1-4585-9694-52f6fc91dde5"
      },
      "execution_count": 16,
      "outputs": [
        {
          "output_type": "stream",
          "name": "stdout",
          "text": [
            "[1, -4, 2, -5, 3, 6]\n",
            "[1, -1, 0, -1, 4, -4, -5]\n"
          ]
        }
      ]
    },
    {
      "cell_type": "markdown",
      "source": [
        "Time Complexity = O(n) + O(n)\n",
        "\n",
        "Space Complexity = O(n)"
      ],
      "metadata": {
        "id": "Kjda0dNS_VmS"
      }
    }
  ]
}