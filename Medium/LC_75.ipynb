{
  "nbformat": 4,
  "nbformat_minor": 0,
  "metadata": {
    "colab": {
      "provenance": []
    },
    "kernelspec": {
      "name": "python3",
      "display_name": "Python 3"
    },
    "language_info": {
      "name": "python"
    }
  },
  "cells": [
    {
      "cell_type": "markdown",
      "source": [
        "**Sort Colors**\n",
        "\n",
        "\n",
        "---\n",
        "\n",
        "\n",
        "Brute force solution - we basically count the number of 0s, 1s and 2s in the array and then replace the values in the array based on this count.\n",
        "\n",
        "\n",
        "---\n",
        "\n",
        "\n",
        "Optimal solution -\n",
        "\n",
        "This is a really interesting problem I encountered. It makes use of an algorithm called *Dutch National Flag*.\n",
        "\n",
        "How it works is, you have an hypothetical array with 0s, 1s and 2s. The array basically follows 3 rules based on 3 variables (or pointers) = low, mid and high.\n",
        "\n",
        "1. Every element from index 0 -> low - 1 will contain 0s\n",
        "2. Every element from index low -> mid - 1 will contain 1s\n",
        "3. Every element from index high + 1 -> n - 1 will contain 2s (where n is the length of array)\n",
        "\n",
        "Now we have a gap in our array, which is basically mid -> high.\n",
        "\n",
        "Everything left of mid is technically sorted (0s and 1s), similarly everything right of high is sorted (2s).\n",
        "\n",
        "We are left with mid -> high which is unsorted (which is basically the array we have to sort).\n",
        "\n",
        "Now we will apply conditions to the first element of our actual array which would be considered arr[mid].\n",
        "\n",
        "The three conditions would be - what would we do if arr[mid] ==0, ==1 and ==2.\n",
        "\n",
        "1. If arr[mid] == 0: we will swap the last element of 0s array (from our hypothetical array) which is basically element at index low. Now we have to follow our rule and increment the value of low by 1 and mid by 1. This will ensure that we are still following the rules of the algorithm.\n",
        "\n",
        "2. If arr[mid] == 1: Our hypothetical array is technically sorted, so we just need to move our pointer of mid by 1.\n",
        "\n",
        "3. If arr[mid] == 2: We try to sort the right half of our hypothetical array. To do so, we will swap elements at high and mid and then decrement the pointer at high by 1. Then we will again follow the algorithm for newly swapped element at arr[mid].\n",
        "\n"
      ],
      "metadata": {
        "id": "81YrCcDzvh1q"
      }
    },
    {
      "cell_type": "code",
      "execution_count": null,
      "metadata": {
        "id": "Mu7D3shZveXt"
      },
      "outputs": [],
      "source": [
        "def sortColors(nums):\n",
        "  low, mid, high = 0, 0, len(nums)-1\n",
        "\n",
        "  for i in range(len(nums)):\n",
        "\n",
        "    if nums[mid] == 0:\n",
        "      nums[low], nums[mid] = nums[mid], nums[low]\n",
        "      low += 1\n",
        "      mid += 1\n",
        "\n",
        "    elif nums[mid] == 1:\n",
        "      mid +=1\n",
        "\n",
        "    elif nums[mid] == 2:\n",
        "      nums[mid], nums[high] = nums[high], nums[mid]\n",
        "      high -= 1\n",
        "\n",
        "  print(nums)\n",
        "\n",
        "print(sortColors(nums = [2,0,1]))"
      ]
    },
    {
      "cell_type": "markdown",
      "source": [
        "Time complexity would be O(n), since at every step you sort 1 element and you do it for every element in the array.\n",
        "\n",
        "Space Complexity is O(1) since we do the sorting in place."
      ],
      "metadata": {
        "id": "C-C7t90twB3l"
      }
    }
  ]
}