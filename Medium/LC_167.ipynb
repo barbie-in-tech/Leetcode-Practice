{
  "nbformat": 4,
  "nbformat_minor": 0,
  "metadata": {
    "colab": {
      "provenance": []
    },
    "kernelspec": {
      "name": "python3",
      "display_name": "Python 3"
    },
    "language_info": {
      "name": "python"
    }
  },
  "cells": [
    {
      "cell_type": "markdown",
      "source": [
        "**Two Sum II - Input Array Is Sorted**\n",
        "\n",
        "\n",
        "---\n",
        "\n",
        "\n",
        "Optimal solution -\n",
        "\n",
        "This is an extension of the previous Two Sum problem. The only thing different in this case is that the input array would be sorted and an additional constraint that we should do it in constant space complexity.\n",
        "\n",
        "The intuition for this is that we have 2 pointers left and right. We find the sum of elements at these two indices and then based on the sum, we move one of the pointers in either direction.\n",
        "\n",
        "So if the sum is more than our target, we have to decrease the summation, meaning move the right pointer 1 to left (since the array is in increasing order, the element to the left of right pointer is smaller, and we need the smaller value)\n",
        "\n",
        "Similarly, if the sum is less then our target value, we need to increase the summation. This basically means to move the left point by 1 to right.\n",
        "\n",
        "And finally, if our sum is equal to target we return the values of left and right pointer.\n",
        "\n"
      ],
      "metadata": {
        "id": "81YrCcDzvh1q"
      }
    },
    {
      "cell_type": "code",
      "execution_count": null,
      "metadata": {
        "id": "Mu7D3shZveXt"
      },
      "outputs": [],
      "source": [
        "def twoSum(nums, target):\n",
        "  nums.sort()\n",
        "  left = 0\n",
        "  right = len(nums) - 1\n",
        "  while left < right:\n",
        "    sum = nums[left] + nums[right]\n",
        "    if sum > target:\n",
        "      right = right - 1\n",
        "    elif sum < target:\n",
        "      left = left + 1\n",
        "    elif sum == target:\n",
        "      return [left + 1, right + 1]"
      ]
    },
    {
      "cell_type": "markdown",
      "source": [
        "Time complexity = O(n)\n",
        "\n",
        "Space Complexity = O(1)"
      ],
      "metadata": {
        "id": "C-C7t90twB3l"
      }
    }
  ]
}