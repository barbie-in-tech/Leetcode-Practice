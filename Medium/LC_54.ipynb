{
  "nbformat": 4,
  "nbformat_minor": 0,
  "metadata": {
    "colab": {
      "provenance": []
    },
    "kernelspec": {
      "name": "python3",
      "display_name": "Python 3"
    },
    "language_info": {
      "name": "python"
    }
  },
  "cells": [
    {
      "cell_type": "markdown",
      "source": [
        "\n",
        "### Spiral Matrix"
      ],
      "metadata": {
        "id": "81YrCcDzvh1q"
      }
    },
    {
      "cell_type": "markdown",
      "source": [
        "Only one solution - we keep a track of all the boundaries of the matrix and update it once we print something.\n",
        "\n",
        "We run the loop while we are inside the boundaries."
      ],
      "metadata": {
        "id": "CwHi9R6xEC-H"
      }
    },
    {
      "cell_type": "code",
      "source": [
        "def printMatrix(matrix):\n",
        "  for i in range(len(matrix)):\n",
        "    print(matrix[i])\n",
        "\n",
        "def spiralOrder(matrix):\n",
        "  n = len(matrix)\n",
        "  m = len(matrix[0])\n",
        "\n",
        "  left, right, top, bottom = 0, m-1, 0, n-1\n",
        "  answer = []\n",
        "  while left <=right and top <= bottom:\n",
        "    #right\n",
        "    for i in range(left, right+1):\n",
        "      answer.append(matrix[top][i])\n",
        "    top += 1\n",
        "\n",
        "    # bottom\n",
        "    for i in range(top, bottom + 1):\n",
        "      answer.append(matrix[i][right])\n",
        "    right -= 1\n",
        "\n",
        "    #because top and right changed hence we need extra checks here\n",
        "    #left\n",
        "    if top <= bottom:\n",
        "      for i in range(right, left-1, -1):\n",
        "        answer.append(matrix[bottom][i])\n",
        "      bottom -= 1\n",
        "\n",
        "    #top\n",
        "    if left <=right:\n",
        "      for i in range(bottom, top-1, -1):\n",
        "        answer.append(matrix[i][left])\n",
        "      left += 1\n",
        "\n",
        "\n",
        "  return answer\n",
        "\n",
        "print(spiralOrder(matrix = [[1,2,3],[4,5,6],[7,8,9]]))\n",
        "print(spiralOrder(matrix = [[1,2,3,4],[5,6,7,8],[9,10,11,12]]))\n"
      ],
      "metadata": {
        "colab": {
          "base_uri": "https://localhost:8080/"
        },
        "id": "V9BT1_AVEv-j",
        "outputId": "78c5b78b-6454-42b1-ae97-8254dbb902e5"
      },
      "execution_count": 10,
      "outputs": [
        {
          "output_type": "stream",
          "name": "stdout",
          "text": [
            "[1, 2, 3, 6, 9, 8, 7, 4, 5]\n",
            "[1, 2, 3, 4, 8, 12, 11, 10, 9, 5, 6, 7]\n"
          ]
        }
      ]
    },
    {
      "cell_type": "markdown",
      "source": [
        "Time Complexity = O(n x m)\n",
        "\n",
        "Space Complexity = O(n x m)"
      ],
      "metadata": {
        "id": "JO9mFwKGFrfq"
      }
    }
  ]
}