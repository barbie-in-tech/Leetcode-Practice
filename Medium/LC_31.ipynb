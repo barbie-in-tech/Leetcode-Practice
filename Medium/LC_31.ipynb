{
  "nbformat": 4,
  "nbformat_minor": 0,
  "metadata": {
    "colab": {
      "provenance": []
    },
    "kernelspec": {
      "name": "python3",
      "display_name": "Python 3"
    },
    "language_info": {
      "name": "python"
    }
  },
  "cells": [
    {
      "cell_type": "markdown",
      "source": [
        "###Next Permutation"
      ],
      "metadata": {
        "id": "81YrCcDzvh1q"
      }
    },
    {
      "cell_type": "markdown",
      "source": [
        "Brute Force Solution -\n",
        "\n",
        "1. Generate all possible permutations (using recursion)\n",
        "\n",
        "2. Linear Search in the array\n",
        "\n",
        "3. Return the one at next index\n",
        "\n",
        "\n",
        "TC = minimum O(n! x n) -> n! permutations and size of each array is n\n",
        "\n",
        "\n",
        "\n",
        "---\n",
        "\n",
        "Better Solution - Can only do in C++ using STL library (next_permutation() function)\n",
        "\n",
        "\n",
        "\n",
        "---\n",
        "\n",
        "\n",
        "Best solution ⁉\n",
        "1. Find longer prefixes (starting from right) by finding the breakpoint (for eg in first example, breakpoint would be after 1 = [2,1 | 5,4,3,0,0])\n",
        "2. Find a number which is greater than the number at index ie 1, but smallest in the right array (like 3) - [2,1 | 5,4,`3`,0,0]\n",
        "3. Swap these 2 numbers - [2,`3` | 5,4,`1`,0,0]\n",
        "4. Sort the right array in ascending order - [2,3 | 0,0,1,4,5] = Final Answer"
      ],
      "metadata": {
        "id": "CwHi9R6xEC-H"
      }
    },
    {
      "cell_type": "code",
      "source": [
        "def nextPermutation(nums):\n",
        "  index = -1\n",
        "  for i in range(len(nums) - 2 , -1, -1):\n",
        "    if nums[i] < nums[i+1]:\n",
        "      index = i\n",
        "      break\n",
        "\n",
        "  if index == -1:\n",
        "    nums[:] = nums[::-1] # https://stackoverflow.com/a/52214455\n",
        "    # Leetcode does not update nums when you do nums = ...\n",
        "    # So do it like nums[:] = ... instead\n",
        "\n",
        "  else:\n",
        "    for i in range(len(nums) - 1, index, -1):\n",
        "      if nums[i] > nums[index]:\n",
        "        nums[i], nums[index] = nums[index], nums[i]\n",
        "        break\n",
        "\n",
        "    nums[index+1:] = list(reversed(nums[index+1:]))\n",
        "\n",
        "  return nums\n",
        "\n",
        "print(nextPermutation(nums = [2,1,5,4,3,0,0]))\n",
        "print(nextPermutation([5,4,3,2,1]))\n",
        "print(nextPermutation([1,2,3]))\n",
        "print(nextPermutation([3,2,1]))"
      ],
      "metadata": {
        "colab": {
          "base_uri": "https://localhost:8080/"
        },
        "id": "V9BT1_AVEv-j",
        "outputId": "7224fdfb-dffc-4887-c5b7-3c41eec98108"
      },
      "execution_count": 32,
      "outputs": [
        {
          "output_type": "stream",
          "name": "stdout",
          "text": [
            "[2, 3, 0, 0, 1, 4, 5]\n",
            "[1, 2, 3, 4, 5]\n",
            "[1, 3, 2]\n",
            "[1, 2, 3]\n"
          ]
        }
      ]
    },
    {
      "cell_type": "markdown",
      "source": [
        "Time Complexity = O(n)\n",
        "\n",
        "Space Complexity = O(1)"
      ],
      "metadata": {
        "id": "JO9mFwKGFrfq"
      }
    }
  ]
}