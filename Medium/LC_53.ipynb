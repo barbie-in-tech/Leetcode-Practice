{
  "nbformat": 4,
  "nbformat_minor": 0,
  "metadata": {
    "colab": {
      "provenance": []
    },
    "kernelspec": {
      "name": "python3",
      "display_name": "Python 3"
    },
    "language_info": {
      "name": "python"
    }
  },
  "cells": [
    {
      "cell_type": "markdown",
      "source": [
        "### Maximum Subarray"
      ],
      "metadata": {
        "id": "81YrCcDzvh1q"
      }
    },
    {
      "cell_type": "markdown",
      "source": [
        "**Brute Force**\n",
        "\n",
        "3 loops - first to traverse, second to make subarrays and third to find the sum of subarray."
      ],
      "metadata": {
        "id": "CwHi9R6xEC-H"
      }
    },
    {
      "cell_type": "markdown",
      "source": [
        "Time Complexity = O(n * n * n)\n"
      ],
      "metadata": {
        "id": "l8_rAT6l7hmJ"
      }
    },
    {
      "cell_type": "markdown",
      "source": [
        "\n",
        "\n",
        "---\n",
        "\n",
        "Better Solution - solution which is better than n*n.\n",
        "\n",
        "```\n",
        "maximum = 0\n",
        "for i = 0, n:\n",
        "  sum = 0\n",
        "  for j = i to n:\n",
        "    sum+=a[j]\n",
        "    maximum = max(maximum,sum)\n",
        "```"
      ],
      "metadata": {
        "id": "-1j5xO1UEsh9"
      }
    },
    {
      "cell_type": "markdown",
      "source": [
        "\n",
        "\n",
        "---\n",
        "\n",
        "**Kadane's algorithm**"
      ],
      "metadata": {
        "id": "PxDFN-81rUV3"
      }
    },
    {
      "cell_type": "code",
      "source": [
        "def maxSubarray(nums):\n",
        "  maximum = nums[0]\n",
        "  sum = 0\n",
        "  start = 0\n",
        "  end = 0\n",
        "  j = 0\n",
        "  for i in range(len(nums)):\n",
        "    sum += nums[i]\n",
        "    maximum = max(sum, maximum)\n",
        "    if sum < 0:\n",
        "      sum = 0\n",
        "\n",
        "  return maximum\n",
        "\n",
        "print(maxSubarray(nums = [-2,1,-3,4,-1,2,1,-5,4]))"
      ],
      "metadata": {
        "colab": {
          "base_uri": "https://localhost:8080/"
        },
        "id": "V9BT1_AVEv-j",
        "outputId": "f741f46b-c1cf-446c-8550-4ce47d536448"
      },
      "execution_count": 12,
      "outputs": [
        {
          "output_type": "stream",
          "name": "stdout",
          "text": [
            "6\n"
          ]
        }
      ]
    },
    {
      "cell_type": "markdown",
      "source": [
        "Time Complexity = O(n)\n",
        "\n",
        "Space Complexity = O(1)"
      ],
      "metadata": {
        "id": "JO9mFwKGFrfq"
      }
    },
    {
      "cell_type": "markdown",
      "source": [
        "\n",
        "\n",
        "---\n",
        "\n",
        "To find the subarray as well :"
      ],
      "metadata": {
        "id": "YRJfDiUD4egK"
      }
    },
    {
      "cell_type": "code",
      "source": [
        "def maxSubarray(nums):\n",
        "  maximum = nums[0]\n",
        "  sum = 0\n",
        "  start = 0\n",
        "  end = 0\n",
        "  j = 0\n",
        "  for i in range(len(nums)):\n",
        "    sum += nums[i]\n",
        "    if sum > maximum:\n",
        "      maximum = sum\n",
        "      start = j\n",
        "      end = i\n",
        "    if sum < 0:\n",
        "      sum = 0\n",
        "      j = i+1\n",
        "\n",
        "  return nums[start:end+1]\n",
        "\n",
        "print(maxSubarray(nums = [-2,1,-3,4,-1,2,1,-5,4]))"
      ],
      "metadata": {
        "colab": {
          "base_uri": "https://localhost:8080/"
        },
        "id": "M6i-liBF4SAV",
        "outputId": "765f09a7-70b6-453c-a09d-b94674e219ae"
      },
      "execution_count": 13,
      "outputs": [
        {
          "output_type": "stream",
          "name": "stdout",
          "text": [
            "[4, -1, 2, 1]\n"
          ]
        }
      ]
    }
  ]
}