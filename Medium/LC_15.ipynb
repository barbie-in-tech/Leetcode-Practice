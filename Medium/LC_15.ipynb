{
  "nbformat": 4,
  "nbformat_minor": 0,
  "metadata": {
    "colab": {
      "provenance": []
    },
    "kernelspec": {
      "name": "python3",
      "display_name": "Python 3"
    },
    "language_info": {
      "name": "python"
    }
  },
  "cells": [
    {
      "cell_type": "markdown",
      "source": [
        "\n",
        "### 3Sum"
      ],
      "metadata": {
        "id": "81YrCcDzvh1q"
      }
    },
    {
      "cell_type": "markdown",
      "source": [
        "Brute Force Solution: Using 3 lists to keep a track of the three numbers."
      ],
      "metadata": {
        "id": "CwHi9R6xEC-H"
      }
    },
    {
      "cell_type": "code",
      "source": [
        "def threeSum(nums):\n",
        "  result = []\n",
        "\n",
        "  n = len(nums)\n",
        "  for i in range(n):\n",
        "    for j in range(i+1, n):\n",
        "      for k in range(j+1, n):\n",
        "        triplet = []\n",
        "        if nums[i] + nums[j] + nums[k] == 0:\n",
        "          triplet.append(nums[i])\n",
        "          triplet.append(nums[j])\n",
        "          triplet.append(nums[k])\n",
        "          triplet.sort()\n",
        "          if triplet not in result:\n",
        "            result.append(triplet)\n",
        "\n",
        "  return result\n",
        "\n",
        "\n",
        "print(threeSum(nums = [-1,0,1,2,-1,-4]))\n",
        "print(threeSum(nums = [0,0,0]))\n"
      ],
      "metadata": {
        "colab": {
          "base_uri": "https://localhost:8080/"
        },
        "id": "V9BT1_AVEv-j",
        "outputId": "c56a78fa-6faa-4446-f8c9-8a4a464e6895"
      },
      "execution_count": null,
      "outputs": [
        {
          "output_type": "stream",
          "name": "stdout",
          "text": [
            "[[-1, 0, 1], [-1, -1, 2]]\n",
            "[[0, 0, 0]]\n"
          ]
        }
      ]
    },
    {
      "cell_type": "markdown",
      "source": [
        "Time Complexity = O(n x n x n x nlogn)\n",
        "\n",
        "Space Complexity = O(n)"
      ],
      "metadata": {
        "id": "JO9mFwKGFrfq"
      }
    },
    {
      "cell_type": "markdown",
      "source": [
        "\n",
        "\n",
        "---\n",
        "\n",
        "\n",
        "Better Solution : try to do it in nxn time complexity using hashing technique which should reduce a loop"
      ],
      "metadata": {
        "id": "r2uKLgWw2g7S"
      }
    },
    {
      "cell_type": "code",
      "source": [
        "def threeSum(nums):\n",
        "  result = []\n",
        "  n = len(nums)\n",
        "\n",
        "  for i in range(n):\n",
        "    hash = []\n",
        "    for j in range(i+1, n):\n",
        "\n",
        "      third = -(nums[i] + nums[j])\n",
        "      if third in hash:\n",
        "        triplet = []\n",
        "        triplet.append(nums[i])\n",
        "        triplet.append(nums[j])\n",
        "        triplet.append(third)\n",
        "        triplet.sort()\n",
        "        if triplet not in result:\n",
        "          result.append(triplet)\n",
        "      hash.append(nums[j])\n",
        "\n",
        "  return result\n",
        "\n",
        "\n",
        "print(threeSum(nums = [-1,0,1,2,-1,-4]))\n",
        "print(threeSum(nums = [0,0,0]))\n"
      ],
      "metadata": {
        "colab": {
          "base_uri": "https://localhost:8080/"
        },
        "id": "O0lyrXx24CN4",
        "outputId": "b9f58f89-3ff9-40ca-d21e-030bb56c83e3"
      },
      "execution_count": null,
      "outputs": [
        {
          "output_type": "stream",
          "name": "stdout",
          "text": [
            "[[-1, 0, 1], [-1, -1, 2]]\n",
            "[[0, 0, 0]]\n"
          ]
        }
      ]
    },
    {
      "cell_type": "markdown",
      "source": [
        "Time Complexity = O(n x n ), but this results in TLE on Leetcode\n",
        "\n",
        "Space Complexity = O(N) -> for triplets\n",
        "\n",
        "\n",
        "---\n",
        "\n",
        "Optimal Solution : using 2 pointer approach but with 3 pointers which follows the rule that i<j<k always. This will work best with a sorted array."
      ],
      "metadata": {
        "id": "f2WnXYs56s9-"
      }
    },
    {
      "cell_type": "code",
      "source": [
        "def threeSum(nums):\n",
        "  result = []\n",
        "  n = len(nums)\n",
        "  nums.sort()\n",
        "  for i in range(n):\n",
        "    if i>0 and nums[i] == nums[i-1]:\n",
        "      continue\n",
        "    j = i+1\n",
        "    k = n-1\n",
        "    while(j<k):\n",
        "       sum =  nums[i] + nums[j] + nums[k]\n",
        "       if sum < 0:\n",
        "        j+=1\n",
        "\n",
        "       elif sum > 0:\n",
        "        k-=1\n",
        "       else:\n",
        "        triplet = []\n",
        "        triplet.append(nums[i])\n",
        "        triplet.append(nums[j])\n",
        "        triplet.append(nums[k])\n",
        "        result.append(triplet)\n",
        "        j+=1\n",
        "        k-=1\n",
        "        while j<k and nums[j] == nums[j-1]:\n",
        "          j += 1\n",
        "        while j<k and nums[k] == nums[k+1]:\n",
        "          k -= 1\n",
        "\n",
        "  return result\n",
        "\n",
        "\n",
        "print(threeSum(nums = [-1,0,1,2,-1,-4]))\n",
        "print(threeSum(nums = [0,0,0]))\n"
      ],
      "metadata": {
        "colab": {
          "base_uri": "https://localhost:8080/"
        },
        "id": "nxyc9hOO9iL1",
        "outputId": "0eab01b4-e2db-40ec-c4ed-80d1b48c97cf"
      },
      "execution_count": null,
      "outputs": [
        {
          "output_type": "stream",
          "name": "stdout",
          "text": [
            "[[-1, -1, 2], [-1, 0, 1]]\n",
            "[[0, 0, 0]]\n"
          ]
        }
      ]
    },
    {
      "cell_type": "markdown",
      "source": [
        "Time Complexity = O(nlogn + nxn) -> sorting + running the for and while loops\n",
        "\n",
        "Space Complexity = O(No. of triplets) which can technically be n\n"
      ],
      "metadata": {
        "id": "nv60dKnl9Q1M"
      }
    }
  ]
}