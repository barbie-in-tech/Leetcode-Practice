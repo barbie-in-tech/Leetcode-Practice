{
  "nbformat": 4,
  "nbformat_minor": 0,
  "metadata": {
    "colab": {
      "provenance": []
    },
    "kernelspec": {
      "name": "python3",
      "display_name": "Python 3"
    },
    "language_info": {
      "name": "python"
    }
  },
  "cells": [
    {
      "cell_type": "markdown",
      "source": [
        "\n",
        "### Find the Duplicate Number"
      ],
      "metadata": {
        "id": "81YrCcDzvh1q"
      }
    },
    {
      "cell_type": "markdown",
      "source": [
        "Approach 1 - sort the array and check if the number adjacent to ith number is same or not"
      ],
      "metadata": {
        "id": "nv60dKnl9Q1M"
      }
    },
    {
      "cell_type": "code",
      "source": [
        "def findDuplicate(nums):\n",
        "  nums.sort()\n",
        "  for i in range(len(nums)-1):\n",
        "    if nums[i] == nums[i+1]:\n",
        "      return nums[i]\n",
        "\n",
        "print(findDuplicate(nums = [1,3,4,2,2]))\n",
        "print(findDuplicate(nums = [3,3,3,3,3]))"
      ],
      "metadata": {
        "colab": {
          "base_uri": "https://localhost:8080/"
        },
        "id": "lmlyLPcI9fL5",
        "outputId": "d6a3e4ee-4f28-4f19-fb3d-1436a63fab8a"
      },
      "execution_count": 1,
      "outputs": [
        {
          "output_type": "stream",
          "name": "stdout",
          "text": [
            "2\n",
            "3\n"
          ]
        }
      ]
    },
    {
      "cell_type": "markdown",
      "source": [
        "TC = O(nlogn) -> but this method will change the array, and it is not allowed to modify the array.\n",
        "\n",
        "\n",
        "\n",
        "---\n",
        "\n",
        "Approach 2 - Hashing\n",
        "\n"
      ],
      "metadata": {
        "id": "_ca4uvzyfuNd"
      }
    },
    {
      "cell_type": "code",
      "source": [
        "def findDuplicate(nums):\n",
        "  map = {}\n",
        "  for i in range(len(nums)):\n",
        "    if nums[i] in map.keys():\n",
        "      return nums[i]\n",
        "    else:\n",
        "      map[nums[i]] = 1\n",
        "\n",
        "print(findDuplicate(nums = [1,3,4,2,2]))\n",
        "print(findDuplicate(nums = [3,3,3,3,3]))"
      ],
      "metadata": {
        "colab": {
          "base_uri": "https://localhost:8080/"
        },
        "id": "mrmc6cR1f5a6",
        "outputId": "bda5c2e5-fa0a-48ba-d51d-60dc9bb802b6"
      },
      "execution_count": 3,
      "outputs": [
        {
          "output_type": "stream",
          "name": "stdout",
          "text": [
            "2\n",
            "3\n"
          ]
        }
      ]
    },
    {
      "cell_type": "markdown",
      "source": [
        "TC = O(N)\n",
        "\n",
        "SC = O(N) -> this method is taking an extra space\n",
        "\n",
        "---\n",
        "\n",
        "Approach 3 - **Floyd' Cycle Detection Algorithm**\n"
      ],
      "metadata": {
        "id": "W59-usFcgObm"
      }
    },
    {
      "cell_type": "code",
      "source": [
        "def findDuplicate(nums):\n",
        "  slow, fast = 0,0\n",
        "  # Phase 1 of Floyd's Cycle Detection\n",
        "  while True:\n",
        "    slow = nums[slow]\n",
        "    fast = nums[nums[fast]]\n",
        "\n",
        "    if slow == fast:\n",
        "      break\n",
        "\n",
        "  slow2 = 0\n",
        "  # Phase 2\n",
        "  while True:\n",
        "    slow = nums[slow]\n",
        "    slow2 = nums[slow2]\n",
        "    if slow == slow2:\n",
        "      return slow\n",
        "\n",
        "print(findDuplicate(nums = [1,3,4,2,2]))\n",
        "print(findDuplicate(nums = [3,3,3,3,3]))"
      ],
      "metadata": {
        "colab": {
          "base_uri": "https://localhost:8080/"
        },
        "id": "t5ZF7nrAk17T",
        "outputId": "fda5a562-9c23-4a6f-b4a0-becfae259155"
      },
      "execution_count": 5,
      "outputs": [
        {
          "output_type": "stream",
          "name": "stdout",
          "text": [
            "2\n",
            "3\n"
          ]
        }
      ]
    }
  ]
}