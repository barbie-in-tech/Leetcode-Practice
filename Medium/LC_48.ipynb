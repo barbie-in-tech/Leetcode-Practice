{
  "nbformat": 4,
  "nbformat_minor": 0,
  "metadata": {
    "colab": {
      "provenance": []
    },
    "kernelspec": {
      "name": "python3",
      "display_name": "Python 3"
    },
    "language_info": {
      "name": "python"
    }
  },
  "cells": [
    {
      "cell_type": "markdown",
      "source": [
        "\n",
        "### Rotate Image"
      ],
      "metadata": {
        "id": "81YrCcDzvh1q"
      }
    },
    {
      "cell_type": "markdown",
      "source": [
        "Brute Force Solution - Create a new matrix and update the values in it.\n",
        "\n",
        "TC = O(n x n)\n",
        "\n",
        "SC = O(n x n)"
      ],
      "metadata": {
        "id": "CwHi9R6xEC-H"
      }
    },
    {
      "cell_type": "code",
      "source": [
        "def printMatrix(matrix):\n",
        "  for i in range(len(matrix)):\n",
        "    print(matrix[i])\n",
        "\n",
        "def rotate(matrix):\n",
        "  n = len(matrix)\n",
        "  answer = [[0] * n for _ in range(n)]  # correct matrix intialisation\n",
        "\n",
        "  for i in range(n):\n",
        "    for j in range(n):\n",
        "      answer[j][n-1-i] = matrix[i][j]\n",
        "\n",
        "  printMatrix(answer)\n",
        "\n",
        "print(rotate(matrix = [[1,2,3],[4,5,6],[7,8,9]]))\n",
        "print(rotate(matrix = [[5,1,9,11],[2,4,8,10],[13,3,6,7],[15,14,12,16]]))\n"
      ],
      "metadata": {
        "colab": {
          "base_uri": "https://localhost:8080/"
        },
        "id": "V9BT1_AVEv-j",
        "outputId": "dd10e029-2a83-4cf1-83b8-8bfaab9c6750"
      },
      "execution_count": 9,
      "outputs": [
        {
          "output_type": "stream",
          "name": "stdout",
          "text": [
            "[7, 4, 1]\n",
            "[8, 5, 2]\n",
            "[9, 6, 3]\n",
            "None\n",
            "[15, 13, 2, 5]\n",
            "[14, 3, 4, 1]\n",
            "[12, 6, 8, 9]\n",
            "[16, 7, 10, 11]\n",
            "None\n"
          ]
        }
      ]
    },
    {
      "cell_type": "markdown",
      "source": [
        "\n",
        "\n",
        "---\n",
        "\n",
        "Optimal Solution - We will try to optimise the space complexity by modifying in place.\n",
        "\n",
        "We can do this in 2 steps -\n",
        "1. Transpose the matrix\n",
        "2. Reverse each row and you get the rotates image."
      ],
      "metadata": {
        "id": "NuZbZkSDGrCy"
      }
    },
    {
      "cell_type": "code",
      "source": [
        "def printMatrix(matrix):\n",
        "  for i in range(len(matrix)):\n",
        "    print(matrix[i])\n",
        "\n",
        "def rotate(matrix):\n",
        "  n = len(matrix)\n",
        "  for i in range(n-1):\n",
        "    for j in range(i+1, n):\n",
        "      matrix[i][j], matrix[j][i] =  matrix[j][i], matrix[i][j]\n",
        "\n",
        "\n",
        "  for i in range(n):\n",
        "    matrix[i].reverse()\n",
        "\n",
        "  printMatrix(matrix)\n",
        "\n",
        "print(rotate(matrix = [[1,2,3],[4,5,6],[7,8,9]]))\n",
        "print(rotate(matrix = [[5,1,9,11],[2,4,8,10],[13,3,6,7],[15,14,12,16]]))"
      ],
      "metadata": {
        "colab": {
          "base_uri": "https://localhost:8080/"
        },
        "id": "hKChic_bBbr_",
        "outputId": "ab2fee8c-9b2c-485c-ad51-ff973c894dfd"
      },
      "execution_count": 6,
      "outputs": [
        {
          "output_type": "stream",
          "name": "stdout",
          "text": [
            "[7, 4, 1]\n",
            "[8, 5, 2]\n",
            "[9, 6, 3]\n",
            "None\n",
            "[15, 13, 2, 5]\n",
            "[14, 3, 4, 1]\n",
            "[12, 6, 8, 9]\n",
            "[16, 7, 10, 11]\n",
            "None\n"
          ]
        }
      ]
    },
    {
      "cell_type": "markdown",
      "source": [
        "Time Complexity = O(n x n)\n",
        "\n",
        "Space Complexity = O(1)"
      ],
      "metadata": {
        "id": "JO9mFwKGFrfq"
      }
    }
  ]
}