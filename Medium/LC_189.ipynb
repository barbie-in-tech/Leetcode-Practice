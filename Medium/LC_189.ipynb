{
  "nbformat": 4,
  "nbformat_minor": 0,
  "metadata": {
    "colab": {
      "provenance": []
    },
    "kernelspec": {
      "name": "python3",
      "display_name": "Python 3"
    },
    "language_info": {
      "name": "python"
    }
  },
  "cells": [
    {
      "cell_type": "markdown",
      "source": [
        "### Rotate Array\n"
      ],
      "metadata": {
        "id": "81YrCcDzvh1q"
      }
    },
    {
      "cell_type": "markdown",
      "source": [
        "Before actually starting, we check if the k > n (len of array) or not.\n",
        "\n",
        "We simply do k = k%n to make k less than n."
      ],
      "metadata": {
        "id": "fB1w1ttk8ZsM"
      }
    },
    {
      "cell_type": "markdown",
      "source": [
        "**Left Rotate**\n",
        "\n",
        "\n",
        "---\n",
        "\n"
      ],
      "metadata": {
        "id": "ZYYFFnWk8JVe"
      }
    },
    {
      "cell_type": "markdown",
      "source": [
        "Brute force - How it works is we take first k elements of array and save it in temp variable.\n",
        "\n",
        "Then we move every element starting from kth index till n one plus to left.\n",
        "\n",
        "Finally we just add the elements of temp into original array, starting from n-k index till n."
      ],
      "metadata": {
        "id": "LQEZC7mX8QAE"
      }
    },
    {
      "cell_type": "code",
      "source": [
        "def leftRotate(nums, k):\n",
        "  n = len(nums)\n",
        "  k = k%n\n",
        "  temp = nums[:k]\n",
        "  length = len(nums)\n",
        "\n",
        "  for i in range(length):\n",
        "    nums[i] = nums[(i+k) % length]\n",
        "\n",
        "  for i in range(length-k, length):\n",
        "    nums[i] = temp[i-(length-k)]\n",
        "\n",
        "  print(nums)\n",
        "\n",
        "leftRotate(nums = [1,2,3,4,5,6,7], k = 3)"
      ],
      "metadata": {
        "colab": {
          "base_uri": "https://localhost:8080/"
        },
        "id": "syvancHX6qZm",
        "outputId": "f51fe3a1-038f-43a4-e88a-edf153ea5f9b"
      },
      "execution_count": 3,
      "outputs": [
        {
          "output_type": "stream",
          "name": "stdout",
          "text": [
            "[4, 5, 6, 7, 1, 2, 3]\n"
          ]
        }
      ]
    },
    {
      "cell_type": "markdown",
      "source": [
        "Time Complexity = O(n + k)\n",
        "\n",
        "Space Complexity = O(k)"
      ],
      "metadata": {
        "id": "l8_rAT6l7hmJ"
      }
    },
    {
      "cell_type": "markdown",
      "source": [
        "\n",
        "\n",
        "---\n",
        "\n",
        "Optimal Solution - using reverse() functions\n",
        "\n",
        "Basically, you divide the array into 2 sections - one with index 0 -> k-1 and second with index k -> n-1.\n",
        "\n",
        "Then reverse these arrays individually first (in-place).\n",
        "\n",
        "Finally reverse the whole array."
      ],
      "metadata": {
        "id": "zOXdxlZ79-n2"
      }
    },
    {
      "cell_type": "code",
      "source": [
        "def leftRotate(nums, k):\n",
        "  n = len(nums)\n",
        "  k = k%n\n",
        "  nums[:k] = reversed(nums[:k])\n",
        "  nums[k:n] = reversed(nums[k:n])\n",
        "  nums.reverse()\n",
        "  print(nums)\n",
        "\n",
        "leftRotate(nums = [1,2,3,4,5,6,7], k = 3)"
      ],
      "metadata": {
        "id": "j-oDwEBp80TW"
      },
      "execution_count": null,
      "outputs": []
    },
    {
      "cell_type": "markdown",
      "source": [
        "Time complexity = O(n) which is slightly better\n",
        "\n",
        "Space Complexity = O(1) since reversal is done in place."
      ],
      "metadata": {
        "id": "X15lLK5x-X6S"
      }
    },
    {
      "cell_type": "markdown",
      "source": [
        "\n",
        "\n",
        "---\n",
        "\n",
        "\n",
        "**Right Rotate**\n",
        "\n",
        "\n",
        "---\n",
        "\n",
        "Optimal solution - We use the same approach as above using reversing."
      ],
      "metadata": {
        "id": "dvjgmW8K8LPA"
      }
    },
    {
      "cell_type": "code",
      "source": [
        "def rightRotate(nums, k):\n",
        "  n = len(nums)\n",
        "  k = k%n\n",
        "  nums[:n-k] = reversed(nums[:n-k])\n",
        "  nums[n-k:n] = reversed(nums[n-k:n])\n",
        "  nums.reverse()\n",
        "  print(nums)\n",
        "\n",
        "rightRotate(nums = [1,2,3,4,5,6,7], k = 3)"
      ],
      "metadata": {
        "id": "0jx_Wb8q-1Ag"
      },
      "execution_count": null,
      "outputs": []
    },
    {
      "cell_type": "markdown",
      "source": [
        "\n",
        "\n",
        "---\n",
        "\n",
        "We can also write our custom reverse function instead of using the inbuilt function."
      ],
      "metadata": {
        "id": "J4PzMPkg_IHr"
      }
    },
    {
      "cell_type": "code",
      "source": [
        "def reverse(nums):\n",
        "  l, r = 0, len(nums) - 1\n",
        "  while l<r:\n",
        "    nums[l], nums[r] = nums[r], nums[l]\n",
        "    l+=1\n",
        "    r-=1"
      ],
      "metadata": {
        "id": "XRxNdG8-_MhU"
      },
      "execution_count": null,
      "outputs": []
    }
  ]
}