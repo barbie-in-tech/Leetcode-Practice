{
  "nbformat": 4,
  "nbformat_minor": 0,
  "metadata": {
    "colab": {
      "provenance": []
    },
    "kernelspec": {
      "name": "python3",
      "display_name": "Python 3"
    },
    "language_info": {
      "name": "python"
    }
  },
  "cells": [
    {
      "cell_type": "markdown",
      "source": [
        "\n",
        "###Longest Consecutive Sequence"
      ],
      "metadata": {
        "id": "81YrCcDzvh1q"
      }
    },
    {
      "cell_type": "markdown",
      "source": [
        "Brute Force Solution - Iterate through the whole array and do a linear search of element + 1\n",
        "\n",
        "\n",
        "TC = minimum O(n x n)\n",
        "\n",
        "SC = O(1)\n",
        "\n",
        "\n",
        "\n",
        "---\n",
        "\n",
        "Better Solution - Sort the array and keep track of 3 variables\n",
        "- CurrCount -> count of current sequence\n",
        "- lastSmaller -> last smaller element in the sequence\n",
        "- longest -> our answer, which keeps track of longest sequence"
      ],
      "metadata": {
        "id": "CwHi9R6xEC-H"
      }
    },
    {
      "cell_type": "code",
      "source": [
        "def longestConsecutive(nums):\n",
        "  nums.sort()\n",
        "  longest = 1\n",
        "  lastSmaller = 0\n",
        "  currCount = 1\n",
        "\n",
        "  for i in range(0, len(nums)):\n",
        "    if (nums[i] - 1 == lastSmaller):\n",
        "      currCount += 1\n",
        "      lastSmaller = nums[i]\n",
        "    elif (nums[i] == lastSmaller):\n",
        "      currCount = 1\n",
        "      lastSmaller = nums[i]\n",
        "\n",
        "    longest = max(longest, currCount)\n",
        "\n",
        "\n",
        "  return longest\n",
        "\n",
        "print(longestConsecutive(nums = [0,3,7,2,5,8,4,6,0,1]))\n"
      ],
      "metadata": {
        "colab": {
          "base_uri": "https://localhost:8080/"
        },
        "id": "V9BT1_AVEv-j",
        "outputId": "919929f7-6a5e-4421-d288-ed8f004ece85"
      },
      "execution_count": 11,
      "outputs": [
        {
          "output_type": "stream",
          "name": "stdout",
          "text": [
            "9\n"
          ]
        }
      ]
    },
    {
      "cell_type": "markdown",
      "source": [
        "TC = O(nlogn + n)\n",
        "\n",
        "SC = O(1)"
      ],
      "metadata": {
        "id": "7UBDMQKwGlvo"
      }
    },
    {
      "cell_type": "markdown",
      "source": [
        "\n",
        "\n",
        "---\n",
        "\n",
        "Optimal Solution - Using a set data structure"
      ],
      "metadata": {
        "id": "NuZbZkSDGrCy"
      }
    },
    {
      "cell_type": "code",
      "source": [
        "def longestConsecutive(nums):\n",
        "  longest = 0\n",
        "  num_set = set(nums)\n",
        "\n",
        "  for n in num_set:\n",
        "    if (n-1) not in num_set:\n",
        "      length = 1\n",
        "      while (n+length) in num_set:\n",
        "        length += 1\n",
        "      longest = max(longest, length)\n",
        "\n",
        "\n",
        "  return longest\n",
        "\n",
        "print(longestConsecutive(nums = [0,3,7,2,5,8,4,6,0,1]))"
      ],
      "metadata": {
        "colab": {
          "base_uri": "https://localhost:8080/"
        },
        "id": "hKChic_bBbr_",
        "outputId": "f4ac6a17-416b-4fee-f1ea-8663a7dd13ac"
      },
      "execution_count": 12,
      "outputs": [
        {
          "output_type": "stream",
          "name": "stdout",
          "text": [
            "9\n"
          ]
        }
      ]
    },
    {
      "cell_type": "markdown",
      "source": [
        "Time Complexity = O(n)\n",
        "\n",
        "Space Complexity = O(n)"
      ],
      "metadata": {
        "id": "JO9mFwKGFrfq"
      }
    }
  ]
}