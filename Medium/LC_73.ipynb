{
  "nbformat": 4,
  "nbformat_minor": 0,
  "metadata": {
    "colab": {
      "provenance": []
    },
    "kernelspec": {
      "name": "python3",
      "display_name": "Python 3"
    },
    "language_info": {
      "name": "python"
    }
  },
  "cells": [
    {
      "cell_type": "markdown",
      "source": [
        "\n",
        "### Set Matrix Zero"
      ],
      "metadata": {
        "id": "81YrCcDzvh1q"
      }
    },
    {
      "cell_type": "markdown",
      "source": [
        "Brute Force Solution - Keep 2 arrays called rows and cols which keeps a track of when zeroes occur and convert it to True or 1.\n",
        "\n",
        "Then again reiterate through the matrix and change the elements only if its True in rither rows or cols.\n",
        "\n",
        "TC = O(2 x n x m)\n",
        "\n",
        "SC = O(n) + O(m)"
      ],
      "metadata": {
        "id": "CwHi9R6xEC-H"
      }
    },
    {
      "cell_type": "code",
      "source": [
        "def setZeroes(matrix):\n",
        "  rows = [False] * len(matrix)\n",
        "  cols = [False] * len(matrix[0])\n",
        "\n",
        "  for i in range(0, len(matrix)):\n",
        "    for j in range(0, len(matrix[i])):\n",
        "      if matrix[i][j] == 0:\n",
        "        rows[i] = True\n",
        "        cols[j] = True\n",
        "\n",
        "  print(rows, cols)\n",
        "\n",
        "  for i in range(0, len(matrix)):\n",
        "    for j in range(0, len(matrix[i])):\n",
        "      if rows[i] or cols[j]:\n",
        "        matrix[i][j] = 0\n",
        "\n",
        "  for i in range(0, len(matrix)):\n",
        "    print(matrix[i])\n",
        "\n",
        "# print(setZeroes(matrix = [[0,1,2,0],[3,4,5,2],[1,3,1,5]]))\n",
        "# print(setZeroes(matrix = [[1,1,1,1],[1,0,1,1],[1,1,0,1],[1,0,0,1]]))\n",
        "print(setZeroes(matrix = [[1,1,1,1],[1,0,1,1],[1,1,0,1],[1,0,0,1]]))\n"
      ],
      "metadata": {
        "colab": {
          "base_uri": "https://localhost:8080/"
        },
        "id": "V9BT1_AVEv-j",
        "outputId": "9bafbed2-9894-4996-b27c-b6ea21050340"
      },
      "execution_count": 16,
      "outputs": [
        {
          "output_type": "stream",
          "name": "stdout",
          "text": [
            "[False, True, False] [False, True, False]\n",
            "[1, 0, 1]\n",
            "[0, 0, 0]\n",
            "[1, 0, 1]\n",
            "None\n"
          ]
        }
      ]
    },
    {
      "cell_type": "markdown",
      "source": [
        "\n",
        "\n",
        "---\n",
        "\n",
        "Optimal Solution - We will try to optimise the space complexity because TC is already very optimised"
      ],
      "metadata": {
        "id": "NuZbZkSDGrCy"
      }
    },
    {
      "cell_type": "code",
      "source": [
        "def setZeroes(matrix):\n",
        "\n",
        "  rowZero = 0 # to keep track of matrix[0][0]\n",
        "\n",
        "  for i in range(0, len(matrix)):\n",
        "    for j in range(0, len(matrix[0])):\n",
        "      if matrix[i][j] == 0:\n",
        "        matrix[0][j] = 0\n",
        "        if i > 0:\n",
        "          matrix[i][0] = 0\n",
        "\n",
        "        else:\n",
        "          rowZero = True\n",
        "\n",
        "  # Zero out everything except first row and column\n",
        "  for i in range(1, len(matrix)):\n",
        "    for j in range(1, len(matrix[0])):\n",
        "      if matrix[0][j] == 0 or matrix[i][0] == 0:\n",
        "        matrix[i][j] = 0\n",
        "\n",
        "\n",
        "  if matrix[0][0] == 0:\n",
        "    for i in range(len(matrix)):\n",
        "      matrix[i][0] = 0\n",
        "\n",
        "  # Zero out first row if we need to\n",
        "  if rowZero:\n",
        "    for j in range( len(matrix[0])):\n",
        "      matrix[0][j] = 0\n",
        "\n",
        "  for i in range(0, len(matrix)):\n",
        "    print(matrix[i])\n",
        "\n",
        "# print(setZeroes(matrix = [[0,1,2,0],[3,4,5,2],[1,3,1,5]]))\n",
        "# print(setZeroes(matrix = [[1,1,1,1],[1,0,1,1],[1,1,0,1],[1,0,0,1]]))\n",
        "print(setZeroes(matrix = [[1,0]]))\n"
      ],
      "metadata": {
        "colab": {
          "base_uri": "https://localhost:8080/"
        },
        "id": "hKChic_bBbr_",
        "outputId": "c527d6bb-8149-4acd-f209-7412c04b699c"
      },
      "execution_count": 23,
      "outputs": [
        {
          "output_type": "stream",
          "name": "stdout",
          "text": [
            "[0, 0]\n",
            "None\n"
          ]
        }
      ]
    },
    {
      "cell_type": "markdown",
      "source": [
        "Time Complexity = O(n)\n",
        "\n",
        "Space Complexity = O(n)"
      ],
      "metadata": {
        "id": "JO9mFwKGFrfq"
      }
    }
  ]
}