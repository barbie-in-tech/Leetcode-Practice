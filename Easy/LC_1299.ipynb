{
  "nbformat": 4,
  "nbformat_minor": 0,
  "metadata": {
    "colab": {
      "provenance": []
    },
    "kernelspec": {
      "name": "python3",
      "display_name": "Python 3"
    },
    "language_info": {
      "name": "python"
    }
  },
  "cells": [
    {
      "cell_type": "markdown",
      "source": [
        "### Leaders in Array\n"
      ],
      "metadata": {
        "id": "PGylX87w6-Cb"
      }
    },
    {
      "cell_type": "markdown",
      "source": [
        "Brute Force solution - Iterate through the whole array and do a linear search on everything to the right"
      ],
      "metadata": {
        "id": "wwVSI06a7Bbq"
      }
    },
    {
      "cell_type": "code",
      "execution_count": 17,
      "metadata": {
        "id": "hpI9tqAf64w5",
        "colab": {
          "base_uri": "https://localhost:8080/"
        },
        "outputId": "c234ed79-db8b-4de7-f77e-f3dfe108fdd6"
      },
      "outputs": [
        {
          "output_type": "stream",
          "name": "stdout",
          "text": [
            "([22, 12, 6], [10, 22, 12, 3, 0, 6])\n",
            "([18, 6, 1], [17, 18, 5, 4, 6, 1])\n"
          ]
        }
      ],
      "source": [
        "def replaceElements(nums):\n",
        "  ans = []\n",
        "  maximum = nums[0]\n",
        "  for i in range(len(nums)):\n",
        "    leader = True\n",
        "    for j in range(i+1, len(nums)):\n",
        "      if (nums[j] > nums[i]):\n",
        "        leader = False\n",
        "        break\n",
        "    if leader:\n",
        "      ans.append(nums[i])\n",
        "  return ans\n",
        "\n",
        "print(replaceElements(nums = [10,22,12,3,0,6]))"
      ]
    },
    {
      "cell_type": "markdown",
      "source": [
        "Time Complexity ~ O(n x n)\n",
        "\n",
        "Space Complexity = O(n) - for worstc ase scenarios like [5,4,3,2,1]"
      ],
      "metadata": {
        "id": "mTzMZ7VuFj3K"
      }
    },
    {
      "cell_type": "markdown",
      "source": [
        "\n",
        "\n",
        "---\n",
        "\n",
        "\n",
        "Optimal Solution - Iterating for the back and keeping a track of maximum element."
      ],
      "metadata": {
        "id": "MN1bRqnUjgao"
      }
    },
    {
      "cell_type": "code",
      "source": [
        "def replaceElements(nums):\n",
        "  leaders = []\n",
        "  maximum = 0\n",
        "  for i in range(len(nums)-1, -1, -1):\n",
        "    if nums[i] > maximum:\n",
        "      leaders.append(nums[i])\n",
        "      maximum = nums[i]\n",
        "\n",
        "  return leaders\n",
        "\n",
        "print(replaceElements(nums = [10,22,12,3,0,6]))\n",
        "print(replaceElements(nums = [17,18,5,4,6,1]))"
      ],
      "metadata": {
        "colab": {
          "base_uri": "https://localhost:8080/"
        },
        "id": "INbAO_JWjfHz",
        "outputId": "206f3ae2-5b86-41b1-dda8-d783398508d2"
      },
      "execution_count": 4,
      "outputs": [
        {
          "output_type": "stream",
          "name": "stdout",
          "text": [
            "[6, 12, 22]\n",
            "[1, 6, 18]\n"
          ]
        }
      ]
    },
    {
      "cell_type": "markdown",
      "source": [
        "### Replace Elements with Greatest Element on Right Side"
      ],
      "metadata": {
        "id": "XOF-ZiPUEt7k"
      }
    },
    {
      "cell_type": "code",
      "source": [
        "def replaceElements(nums):\n",
        "  rightMax = -1\n",
        "  for i in range(len(nums)-1, -1,-1):\n",
        "    newMax = max(rightMax, nums[i])\n",
        "    nums[i] = rightMax\n",
        "    rightMax = newMax\n",
        "  return nums\n",
        "\n",
        "print(replaceElements(nums = [10,22,12,3,0,6]))\n",
        "print(replaceElements(nums = [17,18,5,4,6,1]))"
      ],
      "metadata": {
        "colab": {
          "base_uri": "https://localhost:8080/"
        },
        "id": "DXgyH1zHm-iu",
        "outputId": "10d27d77-5e26-4504-c990-66364016baff"
      },
      "execution_count": 23,
      "outputs": [
        {
          "output_type": "stream",
          "name": "stdout",
          "text": [
            "[22, 12, 6, 6, 6, -1]\n",
            "[18, 6, 6, 6, 1, -1]\n"
          ]
        }
      ]
    }
  ]
}