{
  "nbformat": 4,
  "nbformat_minor": 0,
  "metadata": {
    "colab": {
      "provenance": []
    },
    "kernelspec": {
      "name": "python3",
      "display_name": "Python 3"
    },
    "language_info": {
      "name": "python"
    }
  },
  "cells": [
    {
      "cell_type": "markdown",
      "source": [
        "**Single Number**\n",
        "\n",
        "\n",
        "---\n",
        "There exists 2 optimal solutions to this -\n",
        "\n",
        "\n",
        "1. Use dictionaries to store the frequency of each element and return the one with frequency = 1\n"
      ],
      "metadata": {
        "id": "81YrCcDzvh1q"
      }
    },
    {
      "cell_type": "code",
      "source": [
        "def singleNumber(nums):\n",
        "  map = {}\n",
        "  for i in nums:\n",
        "    if i in map.keys():\n",
        "      map[i] += 1\n",
        "\n",
        "    else:\n",
        "      map[i] = 1\n",
        "\n",
        "  for key, value in map.items():\n",
        "    if value == 1:\n",
        "      return key\n",
        "\n",
        "print(singleNumber(nums = [4,1,2,1,2]))"
      ],
      "metadata": {
        "id": "ZWlo0h6b3e04"
      },
      "execution_count": null,
      "outputs": []
    },
    {
      "cell_type": "markdown",
      "source": [
        "Time Complexity = O(n)\n",
        "\n",
        "Space Complexity = O(n/2)"
      ],
      "metadata": {
        "id": "G2yy-lcs3jIm"
      }
    },
    {
      "cell_type": "markdown",
      "source": [
        "2. The other optimal (best) solution is using XOR function and its properties.\n",
        "\n",
        "- num ^ num = 0\n",
        "- num ^ 0 = num\n",
        "\n",
        "Basically, we will xor all the elements in the array. Since all of the elements except 1 appears twice, it will cancel out and leave us with the single number.\n"
      ],
      "metadata": {
        "id": "7Wt3F9oP3rfs"
      }
    },
    {
      "cell_type": "code",
      "execution_count": null,
      "metadata": {
        "id": "Mu7D3shZveXt"
      },
      "outputs": [],
      "source": [
        "def singleNumber(nums):\n",
        "  xor = 0\n",
        "  for i in nums:\n",
        "    xor = xor ^ i\n",
        "  return xor\n",
        "\n",
        "print(singleNumber(nums = [4,1,2,1,2]))"
      ]
    },
    {
      "cell_type": "markdown",
      "source": [
        "Time complexity = O(n) since we iterate through the whole array\n",
        "\n",
        "Space Complexity = O(1) since we dont use any extra space and xor calculation is done in place"
      ],
      "metadata": {
        "id": "C-C7t90twB3l"
      }
    }
  ]
}