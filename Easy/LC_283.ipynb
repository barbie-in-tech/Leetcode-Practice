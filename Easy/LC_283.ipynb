{
  "nbformat": 4,
  "nbformat_minor": 0,
  "metadata": {
    "colab": {
      "provenance": []
    },
    "kernelspec": {
      "name": "python3",
      "display_name": "Python 3"
    },
    "language_info": {
      "name": "python"
    }
  },
  "cells": [
    {
      "cell_type": "markdown",
      "source": [
        "**Move Zeros**\n",
        "\n",
        "\n",
        "---\n",
        "Using conditional swapping. Basically have a pointer and swap the value at pointer and i if its not zero.\n"
      ],
      "metadata": {
        "id": "81YrCcDzvh1q"
      }
    },
    {
      "cell_type": "code",
      "source": [
        "def moveZeros(nums):\n",
        "  j = 0\n",
        "  for i in range(len(nums)):\n",
        "    if nums[i] !=0 :\n",
        "      nums[j], nums[i] = nums[i], nums[j]\n",
        "      j+=1\n",
        "  print(nums)\n",
        "\n",
        "moveZeros(nums = [4,2,4,0,0,3,0,5,1,0])"
      ],
      "metadata": {
        "id": "syvancHX6qZm"
      },
      "execution_count": null,
      "outputs": []
    },
    {
      "cell_type": "markdown",
      "source": [
        "Time Complexity = O(n)"
      ],
      "metadata": {
        "id": "l8_rAT6l7hmJ"
      }
    }
  ]
}