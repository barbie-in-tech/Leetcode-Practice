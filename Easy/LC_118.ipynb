{
  "nbformat": 4,
  "nbformat_minor": 0,
  "metadata": {
    "colab": {
      "provenance": []
    },
    "kernelspec": {
      "name": "python3",
      "display_name": "Python 3"
    },
    "language_info": {
      "name": "python"
    }
  },
  "cells": [
    {
      "cell_type": "markdown",
      "source": [
        "### Pascal's Triangle\n",
        "\n",
        "I used combinatorial mathematics to achieve this.\n"
      ],
      "metadata": {
        "id": "PGylX87w6-Cb"
      }
    },
    {
      "cell_type": "code",
      "source": [
        "def generate(numRows):\n",
        "    result = []\n",
        "    if numRows == 0:\n",
        "        return result\n",
        "\n",
        "    for row in range(1, numRows+1):\n",
        "        ans = 1\n",
        "        rows = []\n",
        "        rows.append(1)\n",
        "\n",
        "        for col in range(1, row):\n",
        "          ans = ans * (row - col)\n",
        "          ans = ans/col\n",
        "          rows.append(int(ans))\n",
        "\n",
        "        result.append(rows)\n",
        "\n",
        "    return result\n",
        "\n",
        "print(generate(5))\n",
        "print(generate(1))"
      ],
      "metadata": {
        "colab": {
          "base_uri": "https://localhost:8080/"
        },
        "id": "xoT9_29OcqiS",
        "outputId": "776b827f-edc9-4011-a958-965a057af103"
      },
      "execution_count": 5,
      "outputs": [
        {
          "output_type": "stream",
          "name": "stdout",
          "text": [
            "[[1], [1, 1], [1, 2, 1], [1, 3, 3, 1], [1, 4, 6, 4, 1]]\n",
            "[[1]]\n"
          ]
        }
      ]
    }
  ]
}