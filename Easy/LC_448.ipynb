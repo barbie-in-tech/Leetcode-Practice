{
  "nbformat": 4,
  "nbformat_minor": 0,
  "metadata": {
    "colab": {
      "provenance": []
    },
    "kernelspec": {
      "name": "python3",
      "display_name": "Python 3"
    },
    "language_info": {
      "name": "python"
    }
  },
  "cells": [
    {
      "cell_type": "markdown",
      "source": [
        "\n",
        "### Find All Numbers Disappeared in an Array"
      ],
      "metadata": {
        "id": "81YrCcDzvh1q"
      }
    },
    {
      "cell_type": "markdown",
      "source": [
        "Only one solution - change the values of number present in the given index and make it negative.\n",
        "\n",
        "Makes use of hashset since all the values are between 1,n."
      ],
      "metadata": {
        "id": "nv60dKnl9Q1M"
      }
    },
    {
      "cell_type": "code",
      "source": [
        "def findDisappearedNumbers(nums):\n",
        "  answer = []\n",
        "  for n in nums :\n",
        "    i = abs(n) - 1\n",
        "    nums[i] = -1 * abs(nums[i])\n",
        "\n",
        "  for idx, val in enumerate(nums):\n",
        "    if val > 0:\n",
        "      answer.append(idx + 1)\n",
        "  return answer\n",
        "\n",
        "\n",
        "\n",
        "print(findDisappearedNumbers(nums = [4,3,2,7,8,2,3,1]))\n",
        "print(findDisappearedNumbers(nums = [1,1]))\n",
        "print(findDisappearedNumbers(nums = [1,2,1]))\n",
        "print(findDisappearedNumbers(nums = [1,4,4,4]))"
      ],
      "metadata": {
        "id": "lmlyLPcI9fL5"
      },
      "execution_count": null,
      "outputs": []
    },
    {
      "cell_type": "markdown",
      "source": [
        "Time complexity = O(n)\n",
        "\n",
        "Space complexity = O(1)"
      ],
      "metadata": {
        "id": "ylHJSWcI-Px7"
      }
    }
  ]
}