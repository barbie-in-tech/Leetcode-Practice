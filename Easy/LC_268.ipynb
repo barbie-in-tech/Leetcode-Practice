{
  "nbformat": 4,
  "nbformat_minor": 0,
  "metadata": {
    "colab": {
      "provenance": []
    },
    "kernelspec": {
      "name": "python3",
      "display_name": "Python 3"
    },
    "language_info": {
      "name": "python"
    }
  },
  "cells": [
    {
      "cell_type": "markdown",
      "source": [
        "**Missing Number**\n",
        "\n",
        "\n",
        "---\n",
        "Brute force solution - Use a simple for loop and if statement\n"
      ],
      "metadata": {
        "id": "81YrCcDzvh1q"
      }
    },
    {
      "cell_type": "code",
      "source": [
        "def missingNumber(nums):\n",
        "  for i in range(1, len(nums)+1):\n",
        "    if i not in nums:\n",
        "      return i\n",
        "\n",
        "print(missingNumber(nums = [9,6,4,2,3,5,7,0,1]))"
      ],
      "metadata": {
        "id": "ZWlo0h6b3e04"
      },
      "execution_count": null,
      "outputs": []
    },
    {
      "cell_type": "markdown",
      "source": [
        "Time complexity = O(n)"
      ],
      "metadata": {
        "id": "C-C7t90twB3l"
      }
    },
    {
      "cell_type": "markdown",
      "source": [
        "\n",
        "\n",
        "---\n",
        "\n",
        "\n",
        "Optimal solution #1 = Using sum method\n",
        "\n",
        "Basically we know that all the numbers are from 0-n, where n = length of array.\n",
        "\n",
        "We find the sum of all numbers from 0-> n and then sum of all numbers in the array and find the difference. The difference is the missing number\n",
        "\n",
        "We use gauss' formula to find sum."
      ],
      "metadata": {
        "id": "53o3-TFK5yTo"
      }
    },
    {
      "cell_type": "code",
      "source": [
        "def missingNumber(nums):\n",
        "  res = len(nums)\n",
        "  for i in range(len(nums)):\n",
        "      res += i - nums[i]\n",
        "  return res\n",
        "\n",
        "print(missingNumber(nums = [9,6,4,2,3,5,7,0,1]))"
      ],
      "metadata": {
        "id": "LDfY2XnU6JXm"
      },
      "execution_count": null,
      "outputs": []
    },
    {
      "cell_type": "markdown",
      "source": [
        "Time Complexity = O(n)\n",
        "\n",
        "The only drawback for this method is if the array is really high, like 10000 numbers or something, which will cause the sum variable to overflow and will be extremely slow."
      ],
      "metadata": {
        "id": "ppcVUg5W6Lgw"
      }
    },
    {
      "cell_type": "markdown",
      "source": [
        "\n",
        "\n",
        "---\n",
        "\n",
        "Optimal Solution #2 = Using XOR\n",
        "\n",
        "We use XOR between the array (for eg [1,0,3]) and actual array (for eg [0,1,2,3]).\n"
      ],
      "metadata": {
        "id": "52-W_6Yq6e4u"
      }
    },
    {
      "cell_type": "code",
      "source": [
        "def missingNumber(nums):\n",
        "  xor1 = 0\n",
        "  xor2 = 0\n",
        "  for i in range(0,len(nums)):\n",
        "    xor2 = xor2 ^ nums[i]\n",
        "    xor1 = xor1 ^ (i+1)\n",
        "  return xor1 ^ xor2\n",
        "\n",
        "print(missingNumber(nums = [9,6,4,2,3,5,7,0,1]))"
      ],
      "metadata": {
        "id": "syvancHX6qZm"
      },
      "execution_count": null,
      "outputs": []
    }
  ]
}