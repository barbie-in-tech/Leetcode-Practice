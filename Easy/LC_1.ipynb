{
  "nbformat": 4,
  "nbformat_minor": 0,
  "metadata": {
    "colab": {
      "provenance": []
    },
    "kernelspec": {
      "name": "python3",
      "display_name": "Python 3"
    },
    "language_info": {
      "name": "python"
    }
  },
  "cells": [
    {
      "cell_type": "markdown",
      "source": [
        "**Two Sum**\n",
        "\n",
        "You use dictionaries (or hashmaps) to approach this problem, since the array is unsorted.\n"
      ],
      "metadata": {
        "id": "81YrCcDzvh1q"
      }
    },
    {
      "cell_type": "code",
      "execution_count": null,
      "metadata": {
        "id": "Mu7D3shZveXt"
      },
      "outputs": [],
      "source": [
        "def twoSum(nums, target):\n",
        "  map = {}\n",
        "  for i in range(len(nums)):\n",
        "    find = target - nums[i]\n",
        "    if find not in map.keys():\n",
        "      map[nums[i]] = i\n",
        "    else:\n",
        "      return[map[find], i]\n",
        "\n",
        "print(twoSum(nums = [2,3,4], target = 6))"
      ]
    },
    {
      "cell_type": "markdown",
      "source": [
        "Time complexity would be O(n). Dictionary lookup in python has average time complexity of O(1) unless the hash function is extremely bad and has a lot of collisions.\n",
        "\n",
        "Space Complexity is ~ O(N) in worst case scenario (when the numbers are at n and n-1 position)"
      ],
      "metadata": {
        "id": "C-C7t90twB3l"
      }
    }
  ]
}