{
  "nbformat": 4,
  "nbformat_minor": 0,
  "metadata": {
    "colab": {
      "provenance": []
    },
    "kernelspec": {
      "name": "python3",
      "display_name": "Python 3"
    },
    "language_info": {
      "name": "python"
    }
  },
  "cells": [
    {
      "cell_type": "markdown",
      "source": [
        "**Remove Duplicates from Sorted Array**"
      ],
      "metadata": {
        "id": "81YrCcDzvh1q"
      }
    },
    {
      "cell_type": "markdown",
      "source": [
        "Brute Force - using set data structure, which ensures no duplicates are added, and then we can return the length of the set\n",
        "\n",
        "Time Complexity = O(n)\n",
        "\n",
        "Soace Complexity = O(n) in worst case\n",
        "\n",
        "---\n",
        "\n",
        "Optimal Solution - Using 2 pointer approach\n",
        "\n",
        "This is basically done using conditional insertion. Starting from 0th and 1st index, check which element is not equal to first pointer and then insert it after the first pointer and then increment the pointers.\n"
      ],
      "metadata": {
        "id": "fB1w1ttk8ZsM"
      }
    },
    {
      "cell_type": "code",
      "source": [
        "def removeDuplicates(nums):\n",
        "  i = 0\n",
        "  for j in range(1,len(nums)):\n",
        "    if nums[j] != nums[i]:\n",
        "      nums[i+1] = nums[j]\n",
        "      i+=1\n",
        "  return i+1\n",
        "\n",
        "\n",
        "removeDuplicates(nums = [0,0,1,1,1,2,2,3,3,4])"
      ],
      "metadata": {
        "id": "syvancHX6qZm"
      },
      "execution_count": null,
      "outputs": []
    },
    {
      "cell_type": "markdown",
      "source": [
        "Time Complexity = O(n)\n",
        "\n",
        "Space Complexity = O(1) since it is done in place."
      ],
      "metadata": {
        "id": "l8_rAT6l7hmJ"
      }
    }
  ]
}