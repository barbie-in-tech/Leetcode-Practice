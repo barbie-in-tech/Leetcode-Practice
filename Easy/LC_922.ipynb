{
  "nbformat": 4,
  "nbformat_minor": 0,
  "metadata": {
    "colab": {
      "provenance": []
    },
    "kernelspec": {
      "name": "python3",
      "display_name": "Python 3"
    },
    "language_info": {
      "name": "python"
    }
  },
  "cells": [
    {
      "cell_type": "markdown",
      "source": [
        "### Sort Array By Parity II\n"
      ],
      "metadata": {
        "id": "PGylX87w6-Cb"
      }
    },
    {
      "cell_type": "markdown",
      "source": [
        "Similar to [LC 2149](https://github.com/barbie-in-tech/Leetcode-Practice/blob/main/Medium/LC_2149.ipynb), just different conditions"
      ],
      "metadata": {
        "id": "wwVSI06a7Bbq"
      }
    },
    {
      "cell_type": "code",
      "execution_count": null,
      "metadata": {
        "id": "hpI9tqAf64w5"
      },
      "outputs": [],
      "source": [
        "def sortArrayByParityII(nums):\n",
        "  ans = [None] * len(nums)\n",
        "  odd = 1\n",
        "  even = 0\n",
        "\n",
        "  for i in range(len(nums)):\n",
        "    if nums[i] % 2 != 0:\n",
        "      ans[odd] = nums[i]\n",
        "      odd += 2\n",
        "    else:\n",
        "      ans[even] = nums[i]\n",
        "      even += 2\n",
        "\n",
        "  return ans\n",
        "\n",
        "print(sortArrayByParityII(nums = [4,2,5,7]))"
      ]
    }
  ]
}