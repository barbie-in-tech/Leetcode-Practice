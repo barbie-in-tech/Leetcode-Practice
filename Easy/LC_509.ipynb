{
  "nbformat": 4,
  "nbformat_minor": 0,
  "metadata": {
    "colab": {
      "provenance": []
    },
    "kernelspec": {
      "name": "python3",
      "display_name": "Python 3"
    },
    "language_info": {
      "name": "python"
    }
  },
  "cells": [
    {
      "cell_type": "markdown",
      "source": [
        "**Fibonacci Number**"
      ],
      "metadata": {
        "id": "81YrCcDzvh1q"
      }
    },
    {
      "cell_type": "code",
      "source": [
        "def fib(n):\n",
        "  f0 = 0\n",
        "  f1 = 1\n",
        "  if n==0:\n",
        "    return 0\n",
        "  if n == 1:\n",
        "    return 1\n",
        "  nth = f1\n",
        "  while(n>1):\n",
        "    nth = f0+f1\n",
        "    f0,f1 = f1,nth\n",
        "    n-=1\n",
        "  return nth\n",
        "\n",
        "print(fib(4))"
      ],
      "metadata": {
        "colab": {
          "base_uri": "https://localhost:8080/"
        },
        "id": "syvancHX6qZm",
        "outputId": "3e780c1b-8e17-4e4c-b702-2546c58cc30d"
      },
      "execution_count": 7,
      "outputs": [
        {
          "output_type": "stream",
          "name": "stdout",
          "text": [
            "3\n"
          ]
        }
      ]
    },
    {
      "cell_type": "markdown",
      "source": [
        "Time Complexity = O(n)\n"
      ],
      "metadata": {
        "id": "l8_rAT6l7hmJ"
      }
    }
  ]
}