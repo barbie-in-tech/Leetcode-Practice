{
  "nbformat": 4,
  "nbformat_minor": 0,
  "metadata": {
    "colab": {
      "provenance": []
    },
    "kernelspec": {
      "name": "python3",
      "display_name": "Python 3"
    },
    "language_info": {
      "name": "python"
    }
  },
  "cells": [
    {
      "cell_type": "markdown",
      "source": [
        "### Majority Element"
      ],
      "metadata": {
        "id": "81YrCcDzvh1q"
      }
    },
    {
      "cell_type": "markdown",
      "source": [
        "**Brute Force**\n",
        "\n",
        "Basically keep a count of all elements and whichever is more than n/2, return that number"
      ],
      "metadata": {
        "id": "CwHi9R6xEC-H"
      }
    },
    {
      "cell_type": "code",
      "source": [
        "def majorityElement(nums):\n",
        "  for i in range(len(nums)):\n",
        "    count = 0\n",
        "\n",
        "    for j in range(len(nums)):\n",
        "      if nums[j] == nums[i]:\n",
        "        count += 1\n",
        "\n",
        "    if count >= (len(nums))/2 :\n",
        "      return nums[i]\n",
        "\n",
        "print(majorityElement(nums = [2,2,1,1,1,2,2]))"
      ],
      "metadata": {
        "colab": {
          "base_uri": "https://localhost:8080/"
        },
        "id": "syvancHX6qZm",
        "outputId": "0f7307e2-fe4c-4880-fecf-7285d17802d8"
      },
      "execution_count": 11,
      "outputs": [
        {
          "output_type": "stream",
          "name": "stdout",
          "text": [
            "2\n"
          ]
        }
      ]
    },
    {
      "cell_type": "markdown",
      "source": [
        "Time Complexity = O(n*n)\n"
      ],
      "metadata": {
        "id": "l8_rAT6l7hmJ"
      }
    },
    {
      "cell_type": "markdown",
      "source": [
        "\n",
        "\n",
        "---\n",
        "\n",
        "Better Solution - solution which is better than n*n, maybe nlogn or n\n",
        "\n",
        "To do so, we can use hashing/hashmaps/dictionaries"
      ],
      "metadata": {
        "id": "-1j5xO1UEsh9"
      }
    },
    {
      "cell_type": "code",
      "source": [
        "def majorityElement(nums):\n",
        "  map = {}\n",
        "  for i in nums:\n",
        "    if i in map.keys():\n",
        "      map[i] += 1\n",
        "    else:\n",
        "      map[i] = 1\n",
        "\n",
        "  for key, value in map.items():\n",
        "    if value >= (len(nums))/2 :\n",
        "      return key\n",
        "\n",
        "\n",
        "print(majorityElement(nums = [2,2,2,1,1,2,2,3,2]))"
      ],
      "metadata": {
        "colab": {
          "base_uri": "https://localhost:8080/"
        },
        "id": "V9BT1_AVEv-j",
        "outputId": "b4f164d9-6d86-4437-9c1c-59a3c994ecfa"
      },
      "execution_count": 16,
      "outputs": [
        {
          "output_type": "stream",
          "name": "stdout",
          "text": [
            "2\n"
          ]
        }
      ]
    },
    {
      "cell_type": "markdown",
      "source": [
        "Time Complexity = O(n). This is because the function iterates through the list once to build the frequency map, and then it iterates through the map to find the majority element. Both operations are linear with respect to the size of the input.\n",
        "\n",
        "Space Complexity = O(n) in worst case. However, if there are many duplicate elements, the space used could be less than n. In the average case, the space complexity would depend on the number of unique elements in the input list."
      ],
      "metadata": {
        "id": "JO9mFwKGFrfq"
      }
    },
    {
      "cell_type": "markdown",
      "source": [
        "\n",
        "\n",
        "---\n",
        "Optimal Solution #1 - *Moore's Voting Algorithm*\n"
      ],
      "metadata": {
        "id": "zEqC415pGMP8"
      }
    },
    {
      "cell_type": "code",
      "source": [
        "def majorityElement(nums):\n",
        "  # Moore's Voting Algorithm\n",
        "  count = 0\n",
        "  for i in range(len(nums)):\n",
        "    if count == 0:\n",
        "      element = nums[i]\n",
        "      count = 1\n",
        "\n",
        "    elif nums[i] == element:\n",
        "      count += 1\n",
        "\n",
        "    else :\n",
        "      count -= 1\n",
        "  return element\n",
        "\n",
        "  # Verifying if element is majority or not - only if required\n",
        "  # counter = 0\n",
        "  # for i in range(len(nums)):\n",
        "  #   if nums[i] == element:\n",
        "  #     counter += 1\n",
        "\n",
        "  #   if counter >= (len(nums))/2 :\n",
        "  #     return element\n",
        "\n",
        "\n",
        "print(majorityElement(nums = [2,2,2,1,1,2,2,3,2]))"
      ],
      "metadata": {
        "colab": {
          "base_uri": "https://localhost:8080/"
        },
        "id": "kEiryPJLJHVe",
        "outputId": "e45f7f7b-2fa7-4c97-c452-0d46ab2c14ad"
      },
      "execution_count": 17,
      "outputs": [
        {
          "output_type": "stream",
          "name": "stdout",
          "text": [
            "2\n"
          ]
        }
      ]
    },
    {
      "cell_type": "markdown",
      "source": [
        "Time Complexity = O(n)\n",
        "\n",
        "Space Complexity = O(1)"
      ],
      "metadata": {
        "id": "9kR4w_tTKp24"
      }
    },
    {
      "cell_type": "markdown",
      "source": [
        "\n",
        "\n",
        "---\n",
        "Optimal Solution #2 - Sorting\n",
        "\n",
        "Since it is given in the question that a majority element *always* exists, we can sort the array and then return the element which is at position [n/2]\n"
      ],
      "metadata": {
        "id": "0JJqCwjIKxs5"
      }
    },
    {
      "cell_type": "code",
      "source": [
        "def majorityElement(nums):\n",
        "  nums.sort()\n",
        "  n = len(nums)\n",
        "  return nums[n//2]\n",
        "\n",
        "print(majorityElement(nums = [2,2,2,1,1,2,2,3,2]))"
      ],
      "metadata": {
        "colab": {
          "base_uri": "https://localhost:8080/"
        },
        "id": "1Vs-upOBKpNj",
        "outputId": "a33d3dc8-aa98-4d56-e134-ce519e1cdae9"
      },
      "execution_count": 19,
      "outputs": [
        {
          "output_type": "stream",
          "name": "stdout",
          "text": [
            "[1, 1, 2, 2, 2, 2, 2, 2, 3] 4\n",
            "2\n"
          ]
        }
      ]
    },
    {
      "cell_type": "markdown",
      "source": [
        "Time Complexity = O(nlogn) which is used up in sorting the array, hence it is a bit faster than the previous solution\n",
        "\n",
        "Space Complexity = O(n), because Timsort used in Python has a space complexity of O(n) in the worst case. This is worse than the previous solution which only takes up constant space."
      ],
      "metadata": {
        "id": "VBS0mRI3Lvzg"
      }
    }
  ]
}