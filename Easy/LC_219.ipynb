{
  "nbformat": 4,
  "nbformat_minor": 0,
  "metadata": {
    "colab": {
      "provenance": []
    },
    "kernelspec": {
      "name": "python3",
      "display_name": "Python 3"
    },
    "language_info": {
      "name": "python"
    }
  },
  "cells": [
    {
      "cell_type": "markdown",
      "source": [
        "### Contains Duplicate II\n"
      ],
      "metadata": {
        "id": "PGylX87w6-Cb"
      }
    },
    {
      "cell_type": "code",
      "source": [
        "def containsNearbyDuplicate(nums, k):\n",
        "  map = {}\n",
        "\n",
        "  for i in range(len(nums)):\n",
        "    if nums[i] in map.keys():\n",
        "      diff = i - map[nums[i]]\n",
        "      if diff <=k:\n",
        "        return True\n",
        "      else:\n",
        "        map[nums[i]] = i\n",
        "    else:\n",
        "      map[nums[i]] = i\n",
        "\n",
        "  return False\n",
        "\n",
        "\n",
        "\n",
        "print(containsNearbyDuplicate(nums = [1,0,1,1], k = 1))\n",
        "print(containsNearbyDuplicate(nums = [1,2,3,1,2,3], k = 2))"
      ],
      "metadata": {
        "colab": {
          "base_uri": "https://localhost:8080/"
        },
        "id": "xoT9_29OcqiS",
        "outputId": "17712794-a5ff-408a-cd2c-0a0f1298a40f"
      },
      "execution_count": 8,
      "outputs": [
        {
          "output_type": "stream",
          "name": "stdout",
          "text": [
            "True\n",
            "False\n"
          ]
        }
      ]
    },
    {
      "cell_type": "code",
      "source": [
        "def containsNearbyDuplicate(nums, k):\n",
        "  window = set()\n",
        "  L = 0\n",
        "  for R in range (len (nums)) :\n",
        "    if R - L > k:\n",
        "      window. remove (nums [L])\n",
        "      L += 1\n",
        "    if nums [R] in window:\n",
        "      return True\n",
        "    window. add (nums [R])\n",
        "  return False\n",
        "\n",
        "print(containsNearbyDuplicate(nums = [1,0,1,1], k = 1))\n",
        "print(containsNearbyDuplicate(nums = [1,2,3,1,2,3], k = 2))"
      ],
      "metadata": {
        "colab": {
          "base_uri": "https://localhost:8080/"
        },
        "id": "-_TNfF7OdqfO",
        "outputId": "4db5dd55-6d59-4050-bdd8-a4b150d44467"
      },
      "execution_count": 9,
      "outputs": [
        {
          "output_type": "stream",
          "name": "stdout",
          "text": [
            "True\n",
            "False\n"
          ]
        }
      ]
    },
    {
      "cell_type": "markdown",
      "source": [
        "Better space complexity using sets instead of maps."
      ],
      "metadata": {
        "id": "1qz_fSe-eF2A"
      }
    }
  ]
}