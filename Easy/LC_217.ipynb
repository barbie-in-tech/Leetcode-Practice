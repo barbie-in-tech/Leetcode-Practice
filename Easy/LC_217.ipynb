{
  "nbformat": 4,
  "nbformat_minor": 0,
  "metadata": {
    "colab": {
      "provenance": []
    },
    "kernelspec": {
      "name": "python3",
      "display_name": "Python 3"
    },
    "language_info": {
      "name": "python"
    }
  },
  "cells": [
    {
      "cell_type": "markdown",
      "source": [
        "### Contains Duplicate\n"
      ],
      "metadata": {
        "id": "PGylX87w6-Cb"
      }
    },
    {
      "cell_type": "markdown",
      "source": [
        "Brute Force solution - Iterate through the whole array and do a linear search on everything to the right"
      ],
      "metadata": {
        "id": "wwVSI06a7Bbq"
      }
    },
    {
      "cell_type": "code",
      "execution_count": 2,
      "metadata": {
        "id": "hpI9tqAf64w5",
        "colab": {
          "base_uri": "https://localhost:8080/"
        },
        "outputId": "15d5372f-0ac6-444f-fffd-3d2e04665acd"
      },
      "outputs": [
        {
          "output_type": "stream",
          "name": "stdout",
          "text": [
            "True\n",
            "False\n"
          ]
        }
      ],
      "source": [
        "def containsDuplicate(nums):\n",
        "\n",
        "  map = {}\n",
        "\n",
        "  for i in nums:\n",
        "    if i in map.keys():\n",
        "      return True\n",
        "    else:\n",
        "      map[i] = 1\n",
        "\n",
        "  return False\n",
        "\n",
        "print(containsDuplicate( nums = [1,1,1,3,3,4,3,2,4,2]))\n",
        "print(containsDuplicate( nums = [1,2,3,4]))"
      ]
    },
    {
      "cell_type": "markdown",
      "source": [
        "Time Complexity = O(n)\n",
        "\n",
        "Space Complexity = O(n) - for worst case scenarios"
      ],
      "metadata": {
        "id": "mTzMZ7VuFj3K"
      }
    },
    {
      "cell_type": "code",
      "source": [
        "def containsDuplicate(nums):\n",
        "\n",
        "  hash = set()\n",
        "\n",
        "  for i in nums:\n",
        "    if i in hash:\n",
        "      return True\n",
        "    hash.add(i)\n",
        "\n",
        "  return False\n",
        "\n",
        "print(containsDuplicate( nums = [1,1,1,3,3,4,3,2,4,2]))\n",
        "print(containsDuplicate( nums = [1,2,3,4]))"
      ],
      "metadata": {
        "colab": {
          "base_uri": "https://localhost:8080/"
        },
        "id": "c2bZZFYucIrI",
        "outputId": "16d2fd46-f9e1-4096-fe85-5986772dc1c4"
      },
      "execution_count": 7,
      "outputs": [
        {
          "output_type": "stream",
          "name": "stdout",
          "text": [
            "True\n",
            "False\n"
          ]
        }
      ]
    },
    {
      "cell_type": "markdown",
      "source": [
        "A bit faster than using dictionaries."
      ],
      "metadata": {
        "id": "a2paDQIaci7C"
      }
    }
  ]
}