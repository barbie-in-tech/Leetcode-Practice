{
  "nbformat": 4,
  "nbformat_minor": 0,
  "metadata": {
    "colab": {
      "provenance": []
    },
    "kernelspec": {
      "name": "python3",
      "display_name": "Python 3"
    },
    "language_info": {
      "name": "python"
    }
  },
  "cells": [
    {
      "cell_type": "markdown",
      "source": [
        "\n",
        "### Remove Element"
      ],
      "metadata": {
        "id": "81YrCcDzvh1q"
      }
    },
    {
      "cell_type": "markdown",
      "source": [
        "Only one solution - keep a counter to kkeep a track of non \"val\" values and use this counter to replace the values in original nums list"
      ],
      "metadata": {
        "id": "nv60dKnl9Q1M"
      }
    },
    {
      "cell_type": "code",
      "source": [
        "def remove(nums, val):\n",
        "  count = 0\n",
        "  for i in range(len(nums)):\n",
        "    if nums[i] != val:\n",
        "      nums[count] = nums[i]\n",
        "      count += 1\n",
        "  return count, nums\n",
        "\n",
        "print(remove(nums = [3,2,2,3], val = 3 ))\n",
        "print(remove(nums = [0,1,2,2,2,3,4,5], val = 2))"
      ],
      "metadata": {
        "colab": {
          "base_uri": "https://localhost:8080/"
        },
        "id": "lmlyLPcI9fL5",
        "outputId": "172dae93-2470-4225-ba48-7c9f30edb14f"
      },
      "execution_count": 13,
      "outputs": [
        {
          "output_type": "stream",
          "name": "stdout",
          "text": [
            "(2, [2, 2, 2, 3])\n",
            "(5, [0, 1, 3, 4, 5, 3, 4, 5])\n"
          ]
        }
      ]
    },
    {
      "cell_type": "markdown",
      "source": [
        "Time complexity = O(n)\n",
        "\n",
        "Space complexity = O(1)"
      ],
      "metadata": {
        "id": "ylHJSWcI-Px7"
      }
    }
  ]
}