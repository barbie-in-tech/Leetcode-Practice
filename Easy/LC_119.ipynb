{
  "nbformat": 4,
  "nbformat_minor": 0,
  "metadata": {
    "colab": {
      "provenance": []
    },
    "kernelspec": {
      "name": "python3",
      "display_name": "Python 3"
    },
    "language_info": {
      "name": "python"
    }
  },
  "cells": [
    {
      "cell_type": "markdown",
      "source": [
        "### Pascal's Triangle II\n",
        "\n",
        "I used combinatorial mathematics to achieve this. This is similar to LC 118, with the only difference being instead of printing the whole triangle, we print just the row and the indexing is 0 based, so I updated my code accordingly.\n"
      ],
      "metadata": {
        "id": "PGylX87w6-Cb"
      }
    },
    {
      "cell_type": "code",
      "source": [
        "def rowGen(row):\n",
        "  ans = 1\n",
        "  rows = []\n",
        "  rows.append(1)\n",
        "  for col in range(1, row + 1):\n",
        "    ans = ans * (row - col + 1)\n",
        "    ans = ans/col\n",
        "    rows.append(int(ans))\n",
        "\n",
        "  return rows\n",
        "\n",
        "for i in range(5):\n",
        "  print(\"for {}, ans = {}\".format(i,rowGen(i)))\n"
      ],
      "metadata": {
        "colab": {
          "base_uri": "https://localhost:8080/"
        },
        "id": "xoT9_29OcqiS",
        "outputId": "23b0a430-cbd5-48b0-dd43-bd1a01f2d43e"
      },
      "execution_count": 1,
      "outputs": [
        {
          "output_type": "stream",
          "name": "stdout",
          "text": [
            "for 0, ans = [1]\n",
            "for 1, ans = [1, 1]\n",
            "for 2, ans = [1, 2, 1]\n",
            "for 3, ans = [1, 3, 3, 1]\n",
            "for 4, ans = [1, 4, 6, 4, 1]\n"
          ]
        }
      ]
    },
    {
      "cell_type": "markdown",
      "source": [
        "\n",
        "\n",
        "---\n",
        "\n",
        "\n",
        "An alternative to this could be printing a specific value in the triangle when row and column is given. This again can be achieved by combinatorial maths using -\n",
        "\n",
        "$$\n",
        "\\binom{n-1}{r-1} = \\frac{(n-1)!}{(r-1)!(n-r-2)!}\n",
        "$$\n",
        "\n",
        "where,\n",
        "\n",
        "n = row\n",
        "\n",
        "r = column\n",
        "\n",
        "This formula is used to find the element when row and column number is given. The only difference is we will not calculate the entire factorial of each number, instead we simplify the formula.\n",
        "\n",
        "An optimal solution to this is given below, based on 0 based indexing-\n",
        "\n"
      ],
      "metadata": {
        "id": "uPZ6IbICeBCu"
      }
    },
    {
      "cell_type": "code",
      "source": [
        "def ncr(r, c):\n",
        "    res = 1\n",
        "    for i in range(c):\n",
        "      res = res * (r - i)\n",
        "      res = res/(i+1)\n",
        "    return int(res)\n",
        "\n",
        "print(ncr(3, 2))\n",
        "print(ncr(3, 1))\n",
        "print(ncr(5, 3))"
      ],
      "metadata": {
        "colab": {
          "base_uri": "https://localhost:8080/"
        },
        "id": "hmUqKYL0e1r9",
        "outputId": "4338aae5-dacf-40e3-b984-0949237669e4"
      },
      "execution_count": 5,
      "outputs": [
        {
          "output_type": "stream",
          "name": "stdout",
          "text": [
            "3\n",
            "3\n",
            "10\n"
          ]
        }
      ]
    },
    {
      "cell_type": "markdown",
      "source": [
        "TC = O(r)\n",
        "\n",
        "SC = O(1)"
      ],
      "metadata": {
        "id": "mi2z5F_fgFZ2"
      }
    }
  ]
}