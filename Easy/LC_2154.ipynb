{
  "nbformat": 4,
  "nbformat_minor": 0,
  "metadata": {
    "colab": {
      "provenance": []
    },
    "kernelspec": {
      "name": "python3",
      "display_name": "Python 3"
    },
    "language_info": {
      "name": "python"
    }
  },
  "cells": [
    {
      "cell_type": "markdown",
      "source": [
        "\n",
        "### Keep Multiplying Found Values by Two"
      ],
      "metadata": {
        "id": "81YrCcDzvh1q"
      }
    },
    {
      "cell_type": "markdown",
      "source": [
        "Approach 1 - sort the array and check if the number adjacent to ith number is same or not"
      ],
      "metadata": {
        "id": "nv60dKnl9Q1M"
      }
    },
    {
      "cell_type": "code",
      "source": [
        "def findFinalValue(nums, original):\n",
        "  answer = original\n",
        "  while answer in nums:\n",
        "    answer = answer * 2\n",
        "  return answer\n",
        "\n",
        "print(findFinalValue(nums = [5,3,6,1,12], original = 3))\n",
        "print(findFinalValue(nums = [2,7,9], original = 4))\n",
        "print(findFinalValue(nums = [5,5,10,10], original = 5))"
      ],
      "metadata": {
        "colab": {
          "base_uri": "https://localhost:8080/"
        },
        "id": "lmlyLPcI9fL5",
        "outputId": "c08da4fd-943c-49ae-e5e9-952408142a94"
      },
      "execution_count": 8,
      "outputs": [
        {
          "output_type": "stream",
          "name": "stdout",
          "text": [
            "24\n",
            "4\n",
            "20\n"
          ]
        }
      ]
    },
    {
      "cell_type": "markdown",
      "source": [
        "TC = O(n)"
      ],
      "metadata": {
        "id": "_ca4uvzyfuNd"
      }
    }
  ]
}