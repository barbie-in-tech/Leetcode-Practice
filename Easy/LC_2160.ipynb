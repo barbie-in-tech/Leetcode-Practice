{
  "nbformat": 4,
  "nbformat_minor": 0,
  "metadata": {
    "colab": {
      "provenance": []
    },
    "kernelspec": {
      "name": "python3",
      "display_name": "Python 3"
    },
    "language_info": {
      "name": "python"
    }
  },
  "cells": [
    {
      "cell_type": "markdown",
      "source": [
        "\n",
        "### Minimum Sum of Four Digit Number After Splitting Digits"
      ],
      "metadata": {
        "id": "81YrCcDzvh1q"
      }
    },
    {
      "cell_type": "markdown",
      "source": [
        "Only 2 digit number would produce the smallest result - For eg 9999 -> 99 + 99 = 198\n",
        "\n",
        "So we just split the number into a list, sort the digits and then take first and third element as num1 and second and 4th element as num2"
      ],
      "metadata": {
        "id": "nv60dKnl9Q1M"
      }
    },
    {
      "cell_type": "code",
      "source": [
        "def minimumSum(num):\n",
        "  map = [int(d) for d in str(num)]\n",
        "  map.sort()\n",
        "  num1 = map[0] * 10 + map[2]\n",
        "  num2 = map[1] * 10 + map[3]\n",
        "  return num1+num2\n",
        "\n",
        "print(minimumSum(num = 2932))\n",
        "print(minimumSum(num = 4009))\n",
        "print(minimumSum(num = 9999))"
      ],
      "metadata": {
        "colab": {
          "base_uri": "https://localhost:8080/"
        },
        "id": "lmlyLPcI9fL5",
        "outputId": "c1b06527-43de-4637-931e-596c9e26b127"
      },
      "execution_count": 13,
      "outputs": [
        {
          "output_type": "stream",
          "name": "stdout",
          "text": [
            "52\n",
            "13\n",
            "198\n"
          ]
        }
      ]
    },
    {
      "cell_type": "markdown",
      "source": [
        "TC = O(nlogn)"
      ],
      "metadata": {
        "id": "_ca4uvzyfuNd"
      }
    }
  ]
}