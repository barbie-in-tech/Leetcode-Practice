{
  "nbformat": 4,
  "nbformat_minor": 0,
  "metadata": {
    "colab": {
      "provenance": []
    },
    "kernelspec": {
      "name": "python3",
      "display_name": "Python 3"
    },
    "language_info": {
      "name": "python"
    }
  },
  "cells": [
    {
      "cell_type": "markdown",
      "source": [
        "**Maximum Consective Ones**\n",
        "\n",
        "\n",
        "---\n",
        "Brute force solution - we will use a counter to keep a track of maximum number of ones.\n"
      ],
      "metadata": {
        "id": "81YrCcDzvh1q"
      }
    },
    {
      "cell_type": "code",
      "source": [
        "def findMaxConsecutiveOnes(nums):\n",
        "  max = 0\n",
        "  counter = 0\n",
        "  i = 0\n",
        "  while(i<len(nums)):\n",
        "    if nums[i] == 1:\n",
        "      counter += 1\n",
        "      if max < counter:\n",
        "        max = counter\n",
        "    else:\n",
        "      counter = 0\n",
        "    i+=1\n",
        "  return max\n",
        "\n",
        "print(findMaxConsecutiveOnes(nums = [1,1,0,1,1,1]))"
      ],
      "metadata": {
        "id": "ZWlo0h6b3e04"
      },
      "execution_count": null,
      "outputs": []
    },
    {
      "cell_type": "markdown",
      "source": [
        "Time complexity = O(n) since we iterate through the whole array\n",
        "\n",
        "Space Complexity = O(1) since we dont use any extra space and xor calculation is done in place"
      ],
      "metadata": {
        "id": "C-C7t90twB3l"
      }
    }
  ]
}